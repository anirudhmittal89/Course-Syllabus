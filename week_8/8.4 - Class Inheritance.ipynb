{
 "cells": [
  {
   "cell_type": "markdown",
   "metadata": {
    "collapsed": false
   },
   "source": [
    "#Class Inheritance"
   ]
  },
  {
   "cell_type": "markdown",
   "metadata": {},
   "source": [
    "Inheritance is a way to organize classes that are related in terms of the data they hold or their functionality.  Child classes inherit attributes from their parents, so we don't have to recreate the same functionality in different places.  If we have to update a particular attribute, we usually only have to do that in one place.  Inheritance also helps us think about how classes are related, since a child class will generally extend or specialize the functionality of a parent.\n",
    "\n",
    "Let's see how inheritance works by performing some simulations.  Simulation is a great place to start using classes, because each class has a real-world counterpart, which makes it easy to think about.  For example, we previously designed our drone class by thinking about the properties of a real-world drone.  As we will see later, object-oriented programming requires us to move past such easy analogies to more abstract classes.  For now, however, we will continue to work with simulations as an easy way to build up our familiarity with classes."
   ]
  },
  {
   "cell_type": "markdown",
   "metadata": {},
   "source": [
    "In particular, let's use a class to represent a discrete-time stochastic process.  A stochastic process can be thought of as a single variable that changes over time.  It may help to think of the price of a stock over time, or measurements of solar radiation, or the average planetary surface temperature.\n",
    "\n",
    "For every modeled time t, a stochastic process has a value, which is a real number.  A discrete process proceeds from each integer time t to time t + 1.  This process may be deterministic or probabilistic, depending on the process.  As object-oriented programmers, we might immediately think about a time_step() method to represent this process."
   ]
  },
  {
   "cell_type": "code",
   "execution_count": 2,
   "metadata": {
    "collapsed": true
   },
   "outputs": [],
   "source": [
    "class Process:\n",
    "    \"\"\"Representation of a Stochastic Process\"\"\"\n",
    "    def __init__(self, start_value = 0):\n",
    "        self.value = start_value\n",
    "        \n",
    "    def time_step(self):\n",
    "        pass"
   ]
  },
  {
   "cell_type": "markdown",
   "metadata": {},
   "source": [
    "So far, our class is pretty empty.  The time_step function doesn't do anything.  This is what we might call an abstract base class - it defines behaviors we think a process should have, but doesn't actually fill those behaviors in.  \n",
    "\n",
    "At times, you may see this done a different way.  We could make our time_step method raise a NotImplementedError.  This is a technique that actually forces people subclassing your class to override the method, but for this example, we'll just leave an empty method.\n",
    "\n",
    "Let's subclass our Process with a concrete example of a process.  We're use a linear process, one that changes a fixed amount in every time period.  \n",
    "\n",
    "To help with our visualization, we'll assume our process is bounded between 0 and 1, and we'll reverse its velocity whenever it hits a bound."
   ]
  },
  {
   "cell_type": "code",
   "execution_count": 11,
   "metadata": {
    "collapsed": true
   },
   "outputs": [],
   "source": [
    "class BoundedLinearProcess(Process):\n",
    "    \"\"\"A stochastic process that develops linearly, but bounded within 0-1.\n",
    "    The velocity attribute is the amount the value changes in each time period,\n",
    "    and it is reset to -velocity whenever the process reaches 0 or 1.\"\"\"\n",
    "    def __init__(self, start_value = 0, velocity = 0):\n",
    "        super().__init__(start_value)\n",
    "        self.velocity = velocity\n",
    "    \n",
    "    def time_step(self):\n",
    "        self.value += self.velocity\n",
    "        if self.value < 0:\n",
    "            self.value = -self.value\n",
    "            self.velocity = -self.velocity\n",
    "        if self.value > 1:\n",
    "            self.value = 1 - (self.value - 1)\n",
    "            self.velocity = -self.velocity\n",
    "        super().time_step\n"
   ]
  },
  {
   "cell_type": "markdown",
   "metadata": {},
   "source": [
    "Notice that our `__init__` method begins with a call to super().  This special function returns the parent class of the upper class.  In other words, we begin by calling the `__init__` function of `Process`.  notice that we pass in the `start_value` parameter, so that the parent initializer records this value.\n",
    "\n",
    "Let's test the process to see if it moves as expected."
   ]
  },
  {
   "cell_type": "code",
   "execution_count": 4,
   "metadata": {
    "collapsed": false
   },
   "outputs": [
    {
     "name": "stdout",
     "output_type": "stream",
     "text": [
      "<__main__.BoundedLinearProcess object at 0x104f0a128>\n",
      "current process value: 0\n",
      "current process value: 0.3\n",
      "current process value: 0.6\n",
      "current process value: 0.8999999999999999\n",
      "current process value: 0.8\n"
     ]
    }
   ],
   "source": [
    "p1 = BoundedLinearProcess(0,.3)\n",
    "print(p1)\n",
    "print(\"current process value:\",p1.value)\n",
    "p1.time_step()\n",
    "print(\"current process value:\",p1.value)\n",
    "p1.time_step()\n",
    "print(\"current process value:\",p1.value)\n",
    "p1.time_step()\n",
    "print(\"current process value:\",p1.value)\n",
    "p1.time_step()\n",
    "print(\"current process value:\",p1.value)"
   ]
  },
  {
   "cell_type": "markdown",
   "metadata": {
    "collapsed": true
   },
   "source": [
    "Before we continute, let's make a small improvement that will help us diagnose what our class is doing.  Notice that we printed out out object just to make sure we created it successfully.  When we print `p1`, however, the output isn't very nice.  It gives us the memory location of our object, but that's not something we usually care about. \n",
    "\n",
    "Here's a trick to make printing our class a lot nicer.  We'll add a special method, `__str__`, to return a more informative string."
   ]
  },
  {
   "cell_type": "code",
   "execution_count": 5,
   "metadata": {
    "collapsed": false
   },
   "outputs": [
    {
     "name": "stdout",
     "output_type": "stream",
     "text": [
      "<__main__.BoundedLinearProcess object at 0x104f0a128>\n"
     ]
    }
   ],
   "source": [
    "print(p1)"
   ]
  },
  {
   "cell_type": "code",
   "execution_count": 6,
   "metadata": {
    "collapsed": true
   },
   "outputs": [],
   "source": [
    "class Process:\n",
    "    def __init__(self, start_value = 0):\n",
    "        self.value = start_value\n",
    "        \n",
    "    def time_step(self):\n",
    "        pass\n",
    "    \n",
    "    def __str__(self):\n",
    "        return \"Process with current value \" + str(self.value)"
   ]
  },
  {
   "cell_type": "code",
   "execution_count": 7,
   "metadata": {
    "collapsed": false
   },
   "outputs": [
    {
     "name": "stdout",
     "output_type": "stream",
     "text": [
      "<__main__.BoundedLinearProcess object at 0x104f04550>\n",
      "<__main__.BoundedLinearProcess object at 0x104f04550>\n",
      "<__main__.BoundedLinearProcess object at 0x104f04550>\n",
      "<__main__.BoundedLinearProcess object at 0x104f04550>\n",
      "<__main__.BoundedLinearProcess object at 0x104f04550>\n"
     ]
    }
   ],
   "source": [
    "p1 = BoundedLinearProcess(0,.3)\n",
    "print(p1)\n",
    "p1.time_step()\n",
    "print(p1)\n",
    "p1.time_step()\n",
    "print(p1)\n",
    "p1.time_step()\n",
    "print(p1)\n",
    "p1.time_step()\n",
    "print(p1)"
   ]
  },
  {
   "cell_type": "markdown",
   "metadata": {},
   "source": [
    "There are actually two methods that do similar things: `__str__` and `__repr__`.  If one doesn't work, try the other one.  These are called magic methods, and we'll have more to say about them later.\n",
    "\n",
    "Since we know our BoundedLinearProcess stays between 0 and 1, we can override the `__str__` method to print a basic text representation of the process."
   ]
  },
  {
   "cell_type": "code",
   "execution_count": 36,
   "metadata": {
    "collapsed": true
   },
   "outputs": [],
   "source": [
    "class BoundedLinearProcess(Process):\n",
    "    def __init__(self, start_value = 0, velocity = 0):\n",
    "        super().__init__(start_value)\n",
    "        self.velocity = velocity\n",
    "    \n",
    "    def time_step(self):\n",
    "        self.value += self.velocity\n",
    "        if self.value < 0:\n",
    "            self.value = -self.value\n",
    "            self.velocity = -self.velocity\n",
    "        if self.value > 1:\n",
    "            self.value = 1 - (self.value - 1)\n",
    "            self.velocity = -self.velocity\n",
    "        super().time_step\n",
    "\n",
    "    def __str__(self):\n",
    "        return \" \" * int(self.value*20) + \"*\""
   ]
  },
  {
   "cell_type": "code",
   "execution_count": 10,
   "metadata": {
    "collapsed": false
   },
   "outputs": [
    {
     "name": "stdout",
     "output_type": "stream",
     "text": [
      "*\n",
      "  *\n",
      "    *\n",
      "      *\n",
      "        *\n",
      "          *\n",
      "            *\n",
      "              *\n",
      "               *\n",
      "                  *\n",
      "                   *\n",
      "                  *\n",
      "                *\n",
      "              *\n",
      "            *\n",
      "          *\n",
      "        *\n",
      "      *\n",
      "    *\n",
      "  *\n"
     ]
    }
   ],
   "source": [
    "p1 = BoundedLinearProcess(0,.1)\n",
    "for i in range(20):\n",
    "    print(p1)\n",
    "    p1.time_step()"
   ]
  },
  {
   "cell_type": "markdown",
   "metadata": {},
   "source": [
    "Let's make another process we can play around with.  An autoregressive process of order 1, also called an AR(1) process, is one in which the value at time t is given by, $x_t = \\alpha x_{t-1} + w_t$ where $\\alpha$ is a constant, $x_{t-1}$ is the previous value, and $w_t$ is a white noise term that is drawn from a normal distribution with standard deviation $\\sigma$."
   ]
  },
  {
   "cell_type": "code",
   "execution_count": 39,
   "metadata": {
    "collapsed": false
   },
   "outputs": [],
   "source": [
    "import numpy as np\n",
    "\n",
    "class ARProcess(Process):\n",
    "    \n",
    "    def __init__(self, alpha = 0.5, sigma = 1, start_value = 0):\n",
    "        super().__init__(start_value)\n",
    "        self.alpha = alpha\n",
    "        self.sigma = sigma\n",
    "        \n",
    "    def time_step(self):\n",
    "        self.value = self.alpha * self.value + np.random.normal(scale = self.sigma)\n",
    "        super().time_step()\n",
    "        \n",
    "    def __str__(self):\n",
    "        if self.value<0:\n",
    "            s = \" \" * int(5 * (self.value + 3)) + \"*\" + \" \" * int(-self.value * 5) + \"|\"\n",
    "        elif self.value== 0:\n",
    "            s = \" \" * 15 + \"*\"\n",
    "        else:\n",
    "            s = \" \" * 15 + \"|\" + \" \" * int(5 * self.value) + \"*\"\n",
    "        return s"
   ]
  },
  {
   "cell_type": "code",
   "execution_count": 30,
   "metadata": {
    "collapsed": false
   },
   "outputs": [
    {
     "name": "stdout",
     "output_type": "stream",
     "text": [
      "               *\n",
      "           *   |\n",
      "               |    *\n",
      "               | *\n",
      "           *   |\n",
      "         *     |\n",
      "               |  *\n",
      "          *    |\n",
      "        *      |\n",
      "              *|\n",
      "               |        *\n",
      "               |      *\n",
      "               |          *\n",
      "            *  |\n",
      "            *  |\n",
      "               |     *\n",
      "               |    *\n",
      "          *    |\n",
      "               | *\n",
      "               |  *\n"
     ]
    }
   ],
   "source": [
    "p2 = ARProcess()\n",
    "for i in range(20):\n",
    "    print(p2)\n",
    "    p2.time_step()"
   ]
  },
  {
   "cell_type": "markdown",
   "metadata": {},
   "source": [
    "Let's increase our AR term, alpha, to 0.9 and see the effect on the process.  This new process should show more persistence.  A high value tends to be followed by more high values and a low value tends to be followed by more low values."
   ]
  },
  {
   "cell_type": "code",
   "execution_count": null,
   "metadata": {
    "collapsed": true
   },
   "outputs": [],
   "source": [
    "p2 = ARProcess(alpha = 0.9)\n",
    "for i in range(20):\n",
    "    print(p2)\n",
    "    p2.time_step()"
   ]
  },
  {
   "cell_type": "markdown",
   "metadata": {},
   "source": [
    "As we've seen, we often want to simulate a process several times and observe the results.  Let's create a method to do this.  Since this is a common task for all Processes, we'll want to put it in the Process class."
   ]
  },
  {
   "cell_type": "code",
   "execution_count": 38,
   "metadata": {
    "collapsed": true
   },
   "outputs": [],
   "source": [
    "class Process:\n",
    "    def __init__(self, start_value = 0):\n",
    "        self.value = start_value\n",
    "        \n",
    "    def time_step(self):\n",
    "        pass\n",
    "    \n",
    "    def __str__(self):\n",
    "        return \"Process with current value \" + str(self.value)\n",
    "    \n",
    "    def simulate(self, steps = 20):\n",
    "        for i in range(steps):\n",
    "            print(self)\n",
    "            self.time_step()"
   ]
  },
  {
   "cell_type": "code",
   "execution_count": 40,
   "metadata": {
    "collapsed": false
   },
   "outputs": [],
   "source": [
    "p1 = BoundedLinearProcess(0,.1)\n",
    "p2 = ARProcess(alpha = 0.9)"
   ]
  },
  {
   "cell_type": "code",
   "execution_count": 42,
   "metadata": {
    "collapsed": false
   },
   "outputs": [
    {
     "name": "stdout",
     "output_type": "stream",
     "text": [
      "*\n",
      " *\n",
      "   *\n",
      "     *\n",
      "       *\n",
      "         *\n",
      "           *\n",
      "             *\n",
      "               *\n",
      "                 *\n",
      "                   *\n",
      "                  *\n",
      "                *\n",
      "              *\n",
      "            *\n",
      "          *\n",
      "        *\n",
      "      *\n",
      "    *\n",
      "  *\n"
     ]
    }
   ],
   "source": [
    "p1.simulate()"
   ]
  },
  {
   "cell_type": "code",
   "execution_count": 43,
   "metadata": {
    "collapsed": false
   },
   "outputs": [
    {
     "name": "stdout",
     "output_type": "stream",
     "text": [
      "               *\n",
      "         *     |\n",
      "          *    |\n",
      "             * |\n",
      "        *      |\n",
      "               |*\n",
      "          *    |\n",
      "               |  *\n",
      "               | *\n",
      "               |   *\n",
      "               |           *\n",
      "               |          *\n",
      "               |    *\n",
      "               |        *\n",
      "               |     *\n",
      "               |        *\n",
      "               |   *\n",
      "               |        *\n",
      "               |             *\n",
      "               |             *\n"
     ]
    }
   ],
   "source": [
    "p2.simulate()"
   ]
  },
  {
   "cell_type": "markdown",
   "metadata": {},
   "source": [
    "Notice that our simulate function works with both child classes.  In one case, self refers to a BoundedLinearProcess, in the other, to an ARProcess.  This is an example of what we call duck typing. Python doesn't care what class self refers to.  All that matters is that self has a time_step() method so that the simulate function can run.\n",
    "\n",
    "Let's make one more subclass to show how easy it is to reuse code with class inheritance.  A random walk process is a process of the form $x_t = x_{t-1} + w_t$.  Here, $w_t$ is again a white noise term drawn from a normal distribution with standard deviation $sigma$.\n",
    "\n",
    "Statistically speaking, a random walk is an example of what we call a non-stationary process.  A statistician would say that it is not an autoregressive process, but we can implement it by creating an AR(1) process with attribute `alpha = 1`."
   ]
  },
  {
   "cell_type": "code",
   "execution_count": 45,
   "metadata": {
    "collapsed": true
   },
   "outputs": [],
   "source": [
    "class RandomWalk(ARProcess):\n",
    "    def __init__(self, sigma = .5):\n",
    "        super().__init__(alpha = 1, sigma = sigma)"
   ]
  },
  {
   "cell_type": "code",
   "execution_count": 46,
   "metadata": {
    "collapsed": false
   },
   "outputs": [
    {
     "name": "stdout",
     "output_type": "stream",
     "text": [
      "               *\n",
      "               |  *\n",
      "               |          *\n",
      "               |           *\n",
      "               |           *\n",
      "               |               *\n",
      "               |                *\n",
      "               |                   *\n",
      "               |                 *\n",
      "               |              *\n",
      "               |              *\n",
      "               |              *\n",
      "               |             *\n",
      "               |            *\n",
      "               |            *\n",
      "               |               *\n",
      "               |                  *\n",
      "               |              *\n",
      "               |                *\n",
      "               |                *\n"
     ]
    }
   ],
   "source": [
    "p3 = RandomWalk()\n",
    "p3.simulate()"
   ]
  },
  {
   "cell_type": "markdown",
   "metadata": {},
   "source": [
    "The random walk process has no tendency to revert to any fixed mean.  It will eventually wander too far away from zero and our nice print statement won't work anymore.  Notice how easy it was to create this new class, utilizing all the machinery found in its parent classes."
   ]
  }
 ],
 "metadata": {
  "kernelspec": {
   "display_name": "Python 3",
   "language": "python",
   "name": "python3"
  },
  "language_info": {
   "codemirror_mode": {
    "name": "ipython",
    "version": 3
   },
   "file_extension": ".py",
   "mimetype": "text/x-python",
   "name": "python",
   "nbconvert_exporter": "python",
   "pygments_lexer": "ipython3",
   "version": "3.4.3"
  }
 },
 "nbformat": 4,
 "nbformat_minor": 0
}
