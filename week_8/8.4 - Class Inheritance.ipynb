{
 "cells": [
  {
   "cell_type": "markdown",
   "metadata": {
    "collapsed": false
   },
   "source": [
    "#Class Inheritance"
   ]
  },
  {
   "cell_type": "markdown",
   "metadata": {},
   "source": [
    "Inheritance is a way to organize classes that are related in terms of the data they hold or their functionality.  Child classes inherit attributes from their parents, so we don't have to recreate the same functionality in different places.  If we have to update a particular attribute, we usually only have to do that in one place.  Inheritance also helps us think about how classes are related, since a child class will generally extend or specialize the functionality of a parent.\n",
    "\n",
    "Let's see how inheritance works by performing some simulations.  Simulation is a great place to start using classes, because each class has a real-world counterpart, which makes it easy to think about.  For example, we previously designed our drone class by thinking about the properties of a real-world drone.  As we will see later, object-oriented programming requires us to move past such easy analogies to more abstract classes.  For now, however, we will continue to work with simulations as an easy way to build up our familiarity with classes."
   ]
  },
  {
   "cell_type": "markdown",
   "metadata": {},
   "source": [
    "In particular, let's use a class to represent a discrete-time stochastic process.  A stochastic process can be thought of as a single variable that changes over time.  It may help to think of the price of a stock over time, or measurements of solar radiation, or the average planetary surface temperature.\n",
    "\n",
    "For every modeled time t, a stochastic process has a value, which is a real number.  A discrete process proceeds from each integer time t to time t + 1.  This process may be deterministic or probabilistic, depending on the process.  As object-oriented programmers, we might immediately think about a time_step() method to represent this process."
   ]
  },
  {
   "cell_type": "code",
   "execution_count": 1,
   "metadata": {
    "collapsed": true
   },
   "outputs": [],
   "source": [
    "class Process:\n",
    "    def __init__(self, start_value = 0):\n",
    "        self.value = start_value\n",
    "        \n",
    "    def time_step(self):\n",
    "        pass"
   ]
  },
  {
   "cell_type": "markdown",
   "metadata": {},
   "source": [
    "So far, our class is pretty empty.  The time_step function doesn't do anything.  This is what we might call an abstract class - it defines behaviors we think a process should have, but doesn't actually fill those behaviors in.\n",
    "\n",
    "Let's subclass our Process with a concrete example of a process.  We're use a linear process, one that changes a fixed amount in every time period.  \n",
    "\n",
    "To help with our visualization, we'll assume our process is bounded between 0 and 1, and we'll reverse its velocity whenever it hits a bound."
   ]
  },
  {
   "cell_type": "code",
   "execution_count": 19,
   "metadata": {
    "collapsed": true
   },
   "outputs": [],
   "source": [
    "class BoundedLinearProcess(Process):\n",
    "    def __init__(self, start_value = 0, velocity = 0):\n",
    "        super().__init__(start_value)\n",
    "        self.velocity = velocity\n",
    "    \n",
    "    def time_step(self):\n",
    "        self.value += self.velocity\n",
    "        if self.value < 0:\n",
    "            self.value = -self.value\n",
    "            self.velocity = -self.velocity\n",
    "        if self.value > 1:\n",
    "            self.value = 1 - (self.value - 1)\n",
    "            self.velocity = -self.velocity\n",
    "        super().time_step\n"
   ]
  },
  {
   "cell_type": "markdown",
   "metadata": {},
   "source": [
    "Notice that our `__init__` method begins with a call to super().  This special function returns the parent class of the upper class.  In other words, we begin by calling the `__init__` function of `Process`.  notice that we pass in the `start_value` parameter, so that the parent initializer records this value.\n",
    "\n",
    "Let's test the process to see if it moves as expected."
   ]
  },
  {
   "cell_type": "code",
   "execution_count": 11,
   "metadata": {
    "collapsed": false
   },
   "outputs": [
    {
     "name": "stdout",
     "output_type": "stream",
     "text": [
      "<__main__.BoundedLinearProcess object at 0x104eadda0>\n",
      "current process value: 0\n",
      "current process value: 0.3\n",
      "current process value: 0.6\n",
      "current process value: 0.8999999999999999\n",
      "current process value: 0.8\n"
     ]
    }
   ],
   "source": [
    "p1 = BoundedLinearProcess(0,.3)\n",
    "print(p1)\n",
    "print(\"current process value:\",p1.value)\n",
    "p1.time_step()\n",
    "print(\"current process value:\",p1.value)\n",
    "p1.time_step()\n",
    "print(\"current process value:\",p1.value)\n",
    "p1.time_step()\n",
    "print(\"current process value:\",p1.value)\n",
    "p1.time_step()\n",
    "print(\"current process value:\",p1.value)"
   ]
  },
  {
   "cell_type": "markdown",
   "metadata": {
    "collapsed": true
   },
   "source": [
    "Notice that we sometimes want to print an object that we create, just to see if we have what we expect.  When we print `p1`, however, the output isn't very nice.  It gives us the memory location of our object, but that's not something we usually care about.  \n",
    "\n",
    "Here's a trick to make printing our class a lot nicer.  We'll add a special method, `__str__`, to return a more informative string."
   ]
  },
  {
   "cell_type": "code",
   "execution_count": 9,
   "metadata": {
    "collapsed": false
   },
   "outputs": [
    {
     "name": "stdout",
     "output_type": "stream",
     "text": [
      "<__main__.BoundedLinearProcess object at 0x104eada20>\n"
     ]
    }
   ],
   "source": [
    "print(p1)"
   ]
  },
  {
   "cell_type": "code",
   "execution_count": 17,
   "metadata": {
    "collapsed": true
   },
   "outputs": [],
   "source": [
    "class Process:\n",
    "    def __init__(self, start_value = 0):\n",
    "        self.value = start_value\n",
    "        \n",
    "    def time_step(self):\n",
    "        pass\n",
    "    \n",
    "    def __str__(self):\n",
    "        return \"Process with current value \" + str(self.value)"
   ]
  },
  {
   "cell_type": "code",
   "execution_count": 21,
   "metadata": {
    "collapsed": false
   },
   "outputs": [
    {
     "name": "stdout",
     "output_type": "stream",
     "text": [
      "Process with current value 0\n",
      "Process with current value 0.3\n",
      "Process with current value 0.6\n",
      "Process with current value 0.8999999999999999\n",
      "Process with current value 0.8\n"
     ]
    }
   ],
   "source": [
    "p1 = BoundedLinearProcess(0,.3)\n",
    "print(p1)\n",
    "p1.time_step()\n",
    "print(p1)\n",
    "p1.time_step()\n",
    "print(p1)\n",
    "p1.time_step()\n",
    "print(p1)\n",
    "p1.time_step()\n",
    "print(p1)"
   ]
  },
  {
   "cell_type": "markdown",
   "metadata": {},
   "source": [
    "There are actually two methods that do similar things: `__str__` and `__repr__`.  If one doesn't work, try the other one.  These are called magic methods, and we'll have more to say about them later.\n",
    "\n",
    "Since we know our BoundedLinearProcess stays between 0 and 1, we can override the `__str__` method to print a basic text representation of the process."
   ]
  },
  {
   "cell_type": "code",
   "execution_count": 23,
   "metadata": {
    "collapsed": true
   },
   "outputs": [],
   "source": [
    "class BoundedLinearProcess(Process):\n",
    "    def __init__(self, start_value = 0, velocity = 0):\n",
    "        super().__init__(start_value)\n",
    "        self.velocity = velocity\n",
    "    \n",
    "    def time_step(self):\n",
    "        self.value += self.velocity\n",
    "        if self.value < 0:\n",
    "            self.value = -self.value\n",
    "            self.velocity = -self.velocity\n",
    "        if self.value > 1:\n",
    "            self.value = 1 - (self.value - 1)\n",
    "            self.velocity = -self.velocity\n",
    "        super().time_step\n",
    "\n",
    "    def __str__(self):\n",
    "        return \" \" * int(self.value*20) + \"*\""
   ]
  },
  {
   "cell_type": "code",
   "execution_count": 24,
   "metadata": {
    "collapsed": false
   },
   "outputs": [
    {
     "name": "stdout",
     "output_type": "stream",
     "text": [
      "*\n",
      "  *\n",
      "    *\n",
      "      *\n",
      "        *\n",
      "          *\n",
      "            *\n",
      "              *\n",
      "               *\n",
      "                  *\n",
      "                   *\n",
      "                  *\n",
      "                *\n",
      "              *\n",
      "            *\n",
      "          *\n",
      "        *\n",
      "      *\n",
      "    *\n",
      "  *\n"
     ]
    }
   ],
   "source": [
    "p1 = BoundedLinearProcess(0,.1)\n",
    "for i in range(20):\n",
    "    print(p1)\n",
    "    p1.time_step()"
   ]
  }
 ],
 "metadata": {
  "kernelspec": {
   "display_name": "Python 3",
   "language": "python",
   "name": "python3"
  },
  "language_info": {
   "codemirror_mode": {
    "name": "ipython",
    "version": 3
   },
   "file_extension": ".py",
   "mimetype": "text/x-python",
   "name": "python",
   "nbconvert_exporter": "python",
   "pygments_lexer": "ipython3",
   "version": "3.4.3"
  }
 },
 "nbformat": 4,
 "nbformat_minor": 0
}
