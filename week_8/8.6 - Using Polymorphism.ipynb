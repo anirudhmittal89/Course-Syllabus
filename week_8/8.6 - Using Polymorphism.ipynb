{
 "cells": [
  {
   "cell_type": "markdown",
   "metadata": {
    "collapsed": false
   },
   "source": [
    "# Using Polymorphism"
   ]
  },
  {
   "cell_type": "markdown",
   "metadata": {
    "collapsed": true
   },
   "source": [
    "Let's delve further into the idea of Object Oriented Programming.  Up to this point, we've been focusing on simulations.  Simulations make it easy to plan out classes, because each one is modeled on a real-world counterpart.  For example, our `Process` class was modeled on a well-known statistical concepts.  We could ask ourselves what behavior we expect a statistical process to have and use that information to help us choose methods.\n",
    "\n",
    "As you become more skilled at object-oriented programming, however, your classes must become more abstract.  Programming becomes a matter or organizing functionality and data into sensible classes.  \n",
    "\n",
    "As an example, let's say that we wanted to plot the value of a process over time.  We might just add a `plot()` method, but this wouldn't be especially modular - we might want to use different plotting techniques at different times and apply them to different Process subclasses.  Our plotting object may also need its own data - for example, to store limits for its axes.  For these reasons, instead of creating a `plot()` method, we would prefer to create a separate `ProcessPlotter()` class.\n",
    "\n",
    "Below is our code for `Process` and its subclasses.  I have removed the print statement in `simulate` since we'd like to move all output to the new `ProcessPlotter` class."
   ]
  },
  {
   "cell_type": "code",
   "execution_count": 30,
   "metadata": {
    "collapsed": true
   },
   "outputs": [],
   "source": [
    "import numpy as np\n",
    "\n",
    "class Process:\n",
    "    def __init__(self, start_value = 0):\n",
    "        self.value = start_value\n",
    "        \n",
    "    def time_step(self):\n",
    "        pass\n",
    "    \n",
    "    def __str__(self):\n",
    "        return \"Process with current value \" + str(self.value)\n",
    "    \n",
    "    def simulate(self, steps = 20):\n",
    "        for i in range(steps):\n",
    "            self.time_step()\n",
    "            \n",
    "class BoundedLinearProcess(Process):\n",
    "    def __init__(self, start_value = 0, velocity = 0):\n",
    "        super().__init__(start_value)\n",
    "        self.velocity = velocity\n",
    "    \n",
    "    def time_step(self):\n",
    "        self.value += self.velocity\n",
    "        if self.value < 0:\n",
    "            self.value = -self.value\n",
    "            self.velocity = -self.velocity\n",
    "        if self.value > 1:\n",
    "            self.value = 1 - (self.value - 1)\n",
    "            self.velocity = -self.velocity\n",
    "        super().time_step\n",
    "\n",
    "    def __str__(self):\n",
    "        return \" \" * int(self.value*20) + \"*\"\n",
    "\n",
    "class ARProcess(Process):\n",
    "    \n",
    "    def __init__(self, alpha = 0.5, sigma = 1, start_value = 0):\n",
    "        super().__init__(start_value)\n",
    "        self.alpha = alpha\n",
    "        self.sigma = sigma\n",
    "        \n",
    "    def time_step(self):\n",
    "        self.value = self.alpha * self.value + np.random.normal(scale = self.sigma)\n",
    "        super().time_step()\n",
    "        \n",
    "    def __str__(self):\n",
    "        if self.value<0:\n",
    "            s = \" \" * int(5 * (self.value + 3)) + \"*\" + \" \" * int(-self.value * 5) + \"|\"\n",
    "        elif self.value== 0:\n",
    "            s = \" \" * 15 + \"*\"\n",
    "        else:\n",
    "            s = \" \" * 15 + \"|\" + \" \" * int(5 * self.value) + \"*\"\n",
    "        return s\n",
    "    \n",
    "class RandomWalk(ARProcess):\n",
    "    def __init__(self, sigma = .5):\n",
    "        super().__init__(alpha = 1, sigma = sigma)"
   ]
  },
  {
   "cell_type": "markdown",
   "metadata": {},
   "source": [
    "We will go ahead an make one change that we need for plotting.  We want each `Process` to keep track of its history.  That is, we want a data attribute to store the `Process`'s value at every time.  Since we were careful to call `super().time_step()` in every `time_step()` method, we only need to add one statement to `Process.time_step()` to make this happen."
   ]
  },
  {
   "cell_type": "code",
   "execution_count": 31,
   "metadata": {
    "collapsed": true
   },
   "outputs": [],
   "source": [
    "import numpy as np\n",
    "\n",
    "class Process:\n",
    "    def __init__(self, start_value = 0):\n",
    "        self.value = start_value\n",
    "        self.history = []\n",
    "        \n",
    "    def time_step(self):\n",
    "        self.history.append(self.value)\n",
    "    \n",
    "    def __str__(self):\n",
    "        return \"Process with current value \" + str(self.value)\n",
    "    \n",
    "    def simulate(self, steps = 20):\n",
    "        for i in range(steps):\n",
    "            self.time_step()\n",
    "            \n",
    "class BoundedLinearProcess(Process):\n",
    "    def __init__(self, start_value = 0, velocity = 0):\n",
    "        super().__init__(start_value)\n",
    "        self.velocity = velocity\n",
    "    \n",
    "    def time_step(self):\n",
    "        self.value += self.velocity\n",
    "        if self.value < 0:\n",
    "            self.value = -self.value\n",
    "            self.velocity = -self.velocity\n",
    "        if self.value > 1:\n",
    "            self.value = 1 - (self.value - 1)\n",
    "            self.velocity = -self.velocity\n",
    "        super().time_step\n",
    "\n",
    "    def __str__(self):\n",
    "        return \" \" * int(self.value*20) + \"*\"\n",
    "\n",
    "class ARProcess(Process):\n",
    "    \n",
    "    def __init__(self, alpha = 0.5, sigma = 1, start_value = 0):\n",
    "        super().__init__(start_value)\n",
    "        self.alpha = alpha\n",
    "        self.sigma = sigma\n",
    "        \n",
    "    def time_step(self):\n",
    "        self.value = self.alpha * self.value + np.random.normal(scale = self.sigma)\n",
    "        super().time_step()\n",
    "        \n",
    "    def __str__(self):\n",
    "        if self.value<0:\n",
    "            s = \" \" * int(5 * (self.value + 3)) + \"*\" + \" \" * int(-self.value * 5) + \"|\"\n",
    "        elif self.value== 0:\n",
    "            s = \" \" * 15 + \"*\"\n",
    "        else:\n",
    "            s = \" \" * 15 + \"|\" + \" \" * int(5 * self.value) + \"*\"\n",
    "        return s\n",
    "    \n",
    "class RandomWalk(ARProcess):\n",
    "    def __init__(self, sigma = .5):\n",
    "        super().__init__(alpha = 1, sigma = sigma)"
   ]
  },
  {
   "cell_type": "markdown",
   "metadata": {},
   "source": [
    "Let's start writing our ProcessPlotter class.  Even if we're just writing one class, we may find it useful to start with an abstract base class, just so we know what methods we want."
   ]
  },
  {
   "cell_type": "code",
   "execution_count": 32,
   "metadata": {
    "collapsed": true
   },
   "outputs": [],
   "source": [
    "class ProcessPlotter(object):\n",
    "    \"\"\"An object to display the history of a Process\"\"\"\n",
    "    def __init__(self, process = None):\n",
    "        self.process = process\n",
    "        \n",
    "    def plot(self):\n",
    "        pass"
   ]
  },
  {
   "cell_type": "markdown",
   "metadata": {},
   "source": [
    "We can now subclass our ProcessPlotter to make the `plot()` method useful."
   ]
  },
  {
   "cell_type": "code",
   "execution_count": 26,
   "metadata": {
    "collapsed": true
   },
   "outputs": [],
   "source": [
    "class TextProcessPlotter(ProcessPlotter):\n",
    "    def plot(self):\n",
    "        upper = max(self.process.history)\n",
    "        lower = min(self.process.history)\n",
    "        if upper == lower:\n",
    "            upper += 1\n",
    "        for val in self.process.history:\n",
    "            print(\" \" * int(20 *(val - lower)/(upper - lower))  + \"*\")"
   ]
  },
  {
   "cell_type": "code",
   "execution_count": 33,
   "metadata": {
    "collapsed": false
   },
   "outputs": [
    {
     "name": "stdout",
     "output_type": "stream",
     "text": [
      "*\n",
      " *\n",
      "  *\n",
      "  *\n",
      "*\n",
      "        *\n",
      "                *\n",
      "                    *\n",
      "                 *\n",
      "            *\n"
     ]
    }
   ],
   "source": [
    "p1 = ARProcess(alpha = .9)\n",
    "plotter1 = TextProcessPlotter(p1)\n",
    "p1.simulate(10)\n",
    "nplotter1.plot()"
   ]
  },
  {
   "cell_type": "markdown",
   "metadata": {},
   "source": [
    "Notice how our AR process works with our `ProcessPlotter`.  We could also do the same thing with a `RandomWalk`."
   ]
  },
  {
   "cell_type": "code",
   "execution_count": 34,
   "metadata": {
    "collapsed": false
   },
   "outputs": [
    {
     "name": "stdout",
     "output_type": "stream",
     "text": [
      "*\n",
      " *\n",
      "     *\n",
      "      *\n",
      "         *\n",
      "         *\n",
      "          *\n",
      "            *\n",
      "             *\n",
      "               *\n",
      "                *\n",
      "                *\n",
      "                *\n",
      "                 *\n",
      "                 *\n",
      "                 *\n",
      "                  *\n",
      "                   *\n",
      "                   *\n",
      "                    *\n"
     ]
    }
   ],
   "source": [
    "p2 = RandomWalk()\n",
    "plotter2 = TextProcessPlotter(p2)\n",
    "p2.simulate(20)\n",
    "plotter2.plot()"
   ]
  },
  {
   "cell_type": "markdown",
   "metadata": {},
   "source": [
    "This is a nice demonstration of what we call polymorphism.  This word simply means that different classes can share the same interface, allowing them to be used in the same way.  Here, our `TextProcessPlotter` doesn't care if it gets a `ARProcess` or a `RandomWalk`.  The functionality it relies on is specified by the common superclass, `Process`.\n",
    "\n",
    "Just for good measure, let's create a nicer `ProcessPlotter`, borrowing tools from the MatPlotLib package."
   ]
  },
  {
   "cell_type": "code",
   "execution_count": 46,
   "metadata": {
    "collapsed": true
   },
   "outputs": [],
   "source": [
    "import matplotlib\n",
    "%matplotlib inline\n",
    "\n",
    "class GraphicProcessPlotter(ProcessPlotter):\n",
    "    def plot(self):\n",
    "        matplotlib.pyplot.plot(self.process.history)"
   ]
  },
  {
   "cell_type": "code",
   "execution_count": 47,
   "metadata": {
    "collapsed": false
   },
   "outputs": [
    {
     "data": {
      "image/png": "[encoded data removed]",
      "text/plain": [
       "<matplotlib.figure.Figure at 0x1069eb320>"
      ]
     },
     "metadata": {},
     "output_type": "display_data"
    }
   ],
   "source": [
    "plotter3 = GraphicProcessPlotter(p1)\n",
    "plotter3.plot()"
   ]
  },
  {
   "cell_type": "code",
   "execution_count": 42,
   "metadata": {
    "collapsed": false
   },
   "outputs": [
    {
     "data": {
      "image/png": "[encoded data removed]",
      "text/plain": [
       "<matplotlib.figure.Figure at 0x1069464a8>"
      ]
     },
     "metadata": {},
     "output_type": "display_data"
    }
   ],
   "source": [
    "plotter4 = GraphicProcessPlotter(p2)\n",
    "plotter4.plot()"
   ]
  },
  {
   "cell_type": "markdown",
   "metadata": {},
   "source": [
    "Essentially, we now have polymorphism on two sides.  Subclasses of `Process` can work with subclasses of `ProcessPlotter` and neither class needs to know exaclty which partner class its working with."
   ]
  }
 ],
 "metadata": {
  "kernelspec": {
   "display_name": "Python 3",
   "language": "python",
   "name": "python3"
  },
  "language_info": {
   "codemirror_mode": {
    "name": "ipython",
    "version": 3
   },
   "file_extension": ".py",
   "mimetype": "text/x-python",
   "name": "python",
   "nbconvert_exporter": "python",
   "pygments_lexer": "ipython3",
   "version": "3.4.3"
  }
 },
 "nbformat": 4,
 "nbformat_minor": 0
}
