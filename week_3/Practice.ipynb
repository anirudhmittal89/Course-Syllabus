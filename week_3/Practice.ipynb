{
 "cells": [
  {
   "cell_type": "code",
   "execution_count": 1,
   "metadata": {
    "collapsed": true
   },
   "outputs": [],
   "source": [
    "periodic_table={\"Hydrogen\":1,\"Helium\":2}"
   ]
  },
  {
   "cell_type": "code",
   "execution_count": 2,
   "metadata": {
    "collapsed": false
   },
   "outputs": [
    {
     "data": {
      "text/plain": [
       "1"
      ]
     },
     "execution_count": 2,
     "metadata": {},
     "output_type": "execute_result"
    }
   ],
   "source": [
    "periodic_table[\"Hydrogen\"]"
   ]
  },
  {
   "cell_type": "code",
   "execution_count": 3,
   "metadata": {
    "collapsed": false
   },
   "outputs": [
    {
     "ename": "KeyError",
     "evalue": "'Hydro'",
     "output_type": "error",
     "traceback": [
      "\u001b[0;31m---------------------------------------------------------------------------\u001b[0m",
      "\u001b[0;31mKeyError\u001b[0m                                  Traceback (most recent call last)",
      "\u001b[0;32m<ipython-input-3-7d95d591a8e6>\u001b[0m in \u001b[0;36m<module>\u001b[0;34m()\u001b[0m\n\u001b[0;32m----> 1\u001b[0;31m \u001b[0mperiodic_table\u001b[0m\u001b[0;34m[\u001b[0m\u001b[0;34m\"Hydro\"\u001b[0m\u001b[0;34m]\u001b[0m\u001b[0;34m\u001b[0m\u001b[0m\n\u001b[0m",
      "\u001b[0;31mKeyError\u001b[0m: 'Hydro'"
     ]
    }
   ],
   "source": [
    "periodic_table[\"Hydro\"]"
   ]
  },
  {
   "cell_type": "code",
   "execution_count": 5,
   "metadata": {
    "collapsed": false
   },
   "outputs": [
    {
     "data": {
      "text/plain": [
       "1"
      ]
     },
     "execution_count": 5,
     "metadata": {},
     "output_type": "execute_result"
    }
   ],
   "source": [
    "periodic_table.setdefault(\"Hydrogen\",12)"
   ]
  },
  {
   "cell_type": "code",
   "execution_count": 6,
   "metadata": {
    "collapsed": false
   },
   "outputs": [
    {
     "data": {
      "text/plain": [
       "13"
      ]
     },
     "execution_count": 6,
     "metadata": {},
     "output_type": "execute_result"
    }
   ],
   "source": [
    "periodic_table.setdefault(\"Carbon\",13)"
   ]
  },
  {
   "cell_type": "code",
   "execution_count": 7,
   "metadata": {
    "collapsed": false
   },
   "outputs": [
    {
     "data": {
      "text/plain": [
       "{'Carbon': 13, 'Helium': 2, 'Hydrogen': 1}"
      ]
     },
     "execution_count": 7,
     "metadata": {},
     "output_type": "execute_result"
    }
   ],
   "source": [
    "periodic_table"
   ]
  },
  {
   "cell_type": "code",
   "execution_count": 8,
   "metadata": {
    "collapsed": true
   },
   "outputs": [],
   "source": [
    "from collections import defaultdict"
   ]
  },
  {
   "cell_type": "code",
   "execution_count": 9,
   "metadata": {
    "collapsed": true
   },
   "outputs": [],
   "source": [
    "def not_an_element():\n",
    "    return int()"
   ]
  },
  {
   "cell_type": "code",
   "execution_count": 10,
   "metadata": {
    "collapsed": true
   },
   "outputs": [],
   "source": [
    "no_error_periodic_table=defaultdict(not_an_element)"
   ]
  },
  {
   "cell_type": "code",
   "execution_count": 11,
   "metadata": {
    "collapsed": false
   },
   "outputs": [
    {
     "data": {
      "text/plain": [
       "defaultdict(<function __main__.not_an_element>, {})"
      ]
     },
     "execution_count": 11,
     "metadata": {},
     "output_type": "execute_result"
    }
   ],
   "source": [
    "no_error_periodic_table"
   ]
  },
  {
   "cell_type": "code",
   "execution_count": 12,
   "metadata": {
    "collapsed": true
   },
   "outputs": [],
   "source": [
    "no_error_periodic_table[\"Hydrogen\"]=1"
   ]
  },
  {
   "cell_type": "code",
   "execution_count": 13,
   "metadata": {
    "collapsed": true
   },
   "outputs": [],
   "source": [
    "no_error_periodic_table[\"Helium\"]=2\n"
   ]
  },
  {
   "cell_type": "code",
   "execution_count": 14,
   "metadata": {
    "collapsed": false
   },
   "outputs": [
    {
     "data": {
      "text/plain": [
       "1"
      ]
     },
     "execution_count": 14,
     "metadata": {},
     "output_type": "execute_result"
    }
   ],
   "source": [
    "no_error_periodic_table[\"Hydrogen\"]"
   ]
  },
  {
   "cell_type": "code",
   "execution_count": 15,
   "metadata": {
    "collapsed": false
   },
   "outputs": [
    {
     "data": {
      "text/plain": [
       "2"
      ]
     },
     "execution_count": 15,
     "metadata": {},
     "output_type": "execute_result"
    }
   ],
   "source": [
    "no_error_periodic_table[\"Helium\"]"
   ]
  },
  {
   "cell_type": "code",
   "execution_count": 16,
   "metadata": {
    "collapsed": false
   },
   "outputs": [
    {
     "data": {
      "text/plain": [
       "0"
      ]
     },
     "execution_count": 16,
     "metadata": {},
     "output_type": "execute_result"
    }
   ],
   "source": [
    "no_error_periodic_table[\"B\"]"
   ]
  },
  {
   "cell_type": "code",
   "execution_count": 17,
   "metadata": {
    "collapsed": false
   },
   "outputs": [
    {
     "data": {
      "text/plain": [
       "0"
      ]
     },
     "execution_count": 17,
     "metadata": {},
     "output_type": "execute_result"
    }
   ],
   "source": [
    "int()"
   ]
  },
  {
   "cell_type": "code",
   "execution_count": 36,
   "metadata": {
    "collapsed": false
   },
   "outputs": [
    {
     "name": "stdout",
     "output_type": "stream",
     "text": [
      "Oxford University Press, USA 2\n",
      "Univ of California Press 4\n",
      "None 8\n",
      "Arcadia Publishing 1\n",
      "Husband Press 1\n",
      "Wadsworth Publishing Company 1\n",
      "Transaction Publishers 1\n",
      "Cambridge Scholars Publishing 1\n",
      "Oxford University Press 1\n",
      "Apress 1\n",
      "University of Toronto Press 1\n",
      "Penn State Press 1\n",
      "Springer Science & Business Media 2\n",
      "Cornell University Press 1\n",
      "Oxford University Press on Demand 1\n",
      "Cambridge University Press 2\n",
      "University of Chicago Press 1\n",
      "University Press of Kentucky 1\n",
      "Verso Books 1\n",
      "Frog Books 1\n",
      "Fordham Univ Press 1\n",
      "U of Minnesota Press 1\n",
      "Macmillan 1\n",
      "Wiley-Blackwell 1\n",
      "Boydell Press 1\n",
      "Heritage Books 1\n",
      "Lexington Books 1\n"
     ]
    }
   ],
   "source": [
    "from collections import defaultdict\n",
    "from urllib.request import urlopen\n",
    "import json\n",
    "response=urlopen(\"https://www.googleapis.com/books/v1/volumes?q=berkeley&maxResults=40\")\n",
    "rawData =response.read().decode(\"utf-8\")\n",
    "book_data=json.loads(rawData)\n",
    "publisher_counter=defaultdict(int)\n",
    "for item in book_data[\"items\"]:\n",
    "    publisher = item[\"volumeInfo\"].setdefault(\"publisher\",\"None\")\n",
    "    publisher_counter[publisher] +=1\n",
    "for publisher,count in publisher_counter.items():\n",
    "    print(publisher,count)\n"
   ]
  },
  {
   "cell_type": "code",
   "execution_count": 39,
   "metadata": {
    "collapsed": false
   },
   "outputs": [
    {
     "data": {
      "text/plain": [
       "99"
      ]
     },
     "execution_count": 39,
     "metadata": {},
     "output_type": "execute_result"
    }
   ],
   "source": [
    "no_error_periodic_table=defaultdict(lambda:99)\n",
    "no_error_periodic_table[\"A\"]=1\n",
    "no_error_periodic_table[\"B\"]=2\n",
    "no_error_periodic_table[\"C\"]"
   ]
  },
  {
   "cell_type": "code",
   "execution_count": 47,
   "metadata": {
    "collapsed": false
   },
   "outputs": [
    {
     "name": "stdout",
     "output_type": "stream",
     "text": [
      "Oxford University Press, USA 2\n",
      "Univ of California Press 4\n",
      "None 8\n",
      "Arcadia Publishing 1\n",
      "Husband Press 1\n",
      "Wadsworth Publishing Company 1\n",
      "Transaction Publishers 1\n",
      "Cambridge Scholars Publishing 1\n",
      "Oxford University Press 1\n",
      "Apress 1\n",
      "University of Toronto Press 1\n",
      "Penn State Press 1\n",
      "Springer Science & Business Media 2\n",
      "Cornell University Press 1\n",
      "Oxford University Press on Demand 1\n",
      "Cambridge University Press 2\n",
      "University of Chicago Press 1\n",
      "University Press of Kentucky 1\n",
      "Verso Books 1\n",
      "Frog Books 1\n",
      "Fordham Univ Press 1\n",
      "U of Minnesota Press 1\n",
      "Macmillan 1\n",
      "Wiley-Blackwell 1\n",
      "Boydell Press 1\n",
      "Heritage Books 1\n",
      "Lexington Books 1\n"
     ]
    },
    {
     "ename": "AttributeError",
     "evalue": "'Counter' object has no attribute 'mostcommon'",
     "output_type": "error",
     "traceback": [
      "\u001b[0;31m---------------------------------------------------------------------------\u001b[0m",
      "\u001b[0;31mAttributeError\u001b[0m                            Traceback (most recent call last)",
      "\u001b[0;32m<ipython-input-47-184e48079846>\u001b[0m in \u001b[0;36m<module>\u001b[0;34m()\u001b[0m\n\u001b[1;32m     17\u001b[0m \u001b[0;32mfor\u001b[0m \u001b[0mitem\u001b[0m \u001b[0;32min\u001b[0m \u001b[0mberkeley_counter\u001b[0m\u001b[0;34m:\u001b[0m\u001b[0;34m\u001b[0m\u001b[0m\n\u001b[1;32m     18\u001b[0m     \u001b[0mprint\u001b[0m\u001b[0;34m(\u001b[0m\u001b[0mitem\u001b[0m\u001b[0;34m,\u001b[0m\u001b[0mberkeley_counter\u001b[0m\u001b[0;34m[\u001b[0m\u001b[0mitem\u001b[0m\u001b[0;34m]\u001b[0m\u001b[0;34m)\u001b[0m\u001b[0;34m\u001b[0m\u001b[0m\n\u001b[0;32m---> 19\u001b[0;31m \u001b[0mberkeley_counter\u001b[0m\u001b[0;34m.\u001b[0m\u001b[0mmostcommon\u001b[0m\u001b[0;34m(\u001b[0m\u001b[0;34m)\u001b[0m\u001b[0;34m\u001b[0m\u001b[0m\n\u001b[0m",
      "\u001b[0;31mAttributeError\u001b[0m: 'Counter' object has no attribute 'mostcommon'"
     ]
    }
   ],
   "source": [
    "from collections import defaultdict\n",
    "from collections import Counter\n",
    "from urllib.request import urlopen\n",
    "import json\n",
    "response=urlopen(\"https://www.googleapis.com/books/v1/volumes?q=berkeley&maxResults=40\")\n",
    "rawData =response.read().decode(\"utf-8\")\n",
    "book_data=json.loads(rawData)\n",
    "\n",
    "publisher_counter=defaultdict(int)\n",
    "berkeley_list=list()\n",
    "\n",
    "for item in book_data[\"items\"]:\n",
    "    publisher = item[\"volumeInfo\"].setdefault(\"publisher\",\"None\")\n",
    "    berkeley_list.append(publisher)\n",
    "    \n",
    "berkeley_counter=Counter(berkeley_list)\n",
    "for item in berkeley_counter:\n",
    "    print(item,berkeley_counter[item])\n"
   ]
  },
  {
   "cell_type": "code",
   "execution_count": 48,
   "metadata": {
    "collapsed": false
   },
   "outputs": [
    {
     "data": {
      "text/plain": [
       "[('None', 8),\n",
       " ('Univ of California Press', 4),\n",
       " ('Oxford University Press, USA', 2)]"
      ]
     },
     "execution_count": 48,
     "metadata": {},
     "output_type": "execute_result"
    }
   ],
   "source": [
    "berkeley_counter.most_common(3)"
   ]
  },
  {
   "cell_type": "code",
   "execution_count": 49,
   "metadata": {
    "collapsed": false
   },
   "outputs": [
    {
     "name": "stdout",
     "output_type": "stream",
     "text": [
      "Sports Publishing LLC 1\n",
      "Stanford University Press 6\n",
      "None 19\n",
      "Courier Corporation 1\n",
      "Cambridge University Press 2\n",
      "Knopf 1\n",
      "Univ of California Press 1\n",
      "College Prowler, Inc 1\n",
      "Princeton Architectural Press 1\n",
      "McGill-Queen's Press - MQUP 1\n",
      "Emerald Group Publishing 1\n",
      "Scholastic Inc. 1\n",
      "Jones & Bartlett Publishers 1\n",
      "Stanford : Collecion Development Office, Stanford University Libraries 1\n",
      "Pearson Custom Pub 1\n",
      "Oxford University Press on Demand 1\n"
     ]
    }
   ],
   "source": [
    "from collections import defaultdict\n",
    "from collections import Counter\n",
    "from urllib.request import urlopen\n",
    "import json\n",
    "response=urlopen(\"https://www.googleapis.com/books/v1/volumes?q=stanford&maxResults=40\")\n",
    "rawData =response.read().decode(\"utf-8\")\n",
    "book_data=json.loads(rawData)\n",
    "\n",
    "publisher_counter=defaultdict(int)\n",
    "stanford_list=list()\n",
    "\n",
    "for item in book_data[\"items\"]:\n",
    "    publisher = item[\"volumeInfo\"].setdefault(\"publisher\",\"None\")\n",
    "    stanford_list.append(publisher)\n",
    "    \n",
    "stanford_counter=Counter(stanford_list)\n",
    "for item in stanford_counter:\n",
    "    print(item,stanford_counter[item])\n"
   ]
  },
  {
   "cell_type": "code",
   "execution_count": 50,
   "metadata": {
    "collapsed": false
   },
   "outputs": [
    {
     "data": {
      "text/plain": [
       "[('None', 19),\n",
       " ('Stanford University Press', 6),\n",
       " ('Cambridge University Press', 2),\n",
       " ('Sports Publishing LLC', 1)]"
      ]
     },
     "execution_count": 50,
     "metadata": {},
     "output_type": "execute_result"
    }
   ],
   "source": [
    "stanford_counter.most_common(4)"
   ]
  },
  {
   "cell_type": "code",
   "execution_count": 51,
   "metadata": {
    "collapsed": false
   },
   "outputs": [
    {
     "data": {
      "text/plain": [
       "Counter({'Apress': 1,\n",
       "         'Arcadia Publishing': 1,\n",
       "         'Boydell Press': 1,\n",
       "         'Cambridge Scholars Publishing': 1,\n",
       "         'Cambridge University Press': 4,\n",
       "         'College Prowler, Inc': 1,\n",
       "         'Cornell University Press': 1,\n",
       "         'Courier Corporation': 1,\n",
       "         'Emerald Group Publishing': 1,\n",
       "         'Fordham Univ Press': 1,\n",
       "         'Frog Books': 1,\n",
       "         'Heritage Books': 1,\n",
       "         'Husband Press': 1,\n",
       "         'Jones & Bartlett Publishers': 1,\n",
       "         'Knopf': 1,\n",
       "         'Lexington Books': 1,\n",
       "         'Macmillan': 1,\n",
       "         \"McGill-Queen's Press - MQUP\": 1,\n",
       "         'None': 27,\n",
       "         'Oxford University Press': 1,\n",
       "         'Oxford University Press on Demand': 2,\n",
       "         'Oxford University Press, USA': 2,\n",
       "         'Pearson Custom Pub': 1,\n",
       "         'Penn State Press': 1,\n",
       "         'Princeton Architectural Press': 1,\n",
       "         'Scholastic Inc.': 1,\n",
       "         'Sports Publishing LLC': 1,\n",
       "         'Springer Science & Business Media': 2,\n",
       "         'Stanford : Collecion Development Office, Stanford University Libraries': 1,\n",
       "         'Stanford University Press': 6,\n",
       "         'Transaction Publishers': 1,\n",
       "         'U of Minnesota Press': 1,\n",
       "         'Univ of California Press': 5,\n",
       "         'University Press of Kentucky': 1,\n",
       "         'University of Chicago Press': 1,\n",
       "         'University of Toronto Press': 1,\n",
       "         'Verso Books': 1,\n",
       "         'Wadsworth Publishing Company': 1,\n",
       "         'Wiley-Blackwell': 1})"
      ]
     },
     "execution_count": 51,
     "metadata": {},
     "output_type": "execute_result"
    }
   ],
   "source": [
    "stanford_counter + berkeley_counter"
   ]
  },
  {
   "cell_type": "code",
   "execution_count": 52,
   "metadata": {
    "collapsed": false
   },
   "outputs": [
    {
     "data": {
      "text/plain": [
       "Counter({'Cambridge University Press': 2,\n",
       "         'None': 8,\n",
       "         'Oxford University Press on Demand': 1,\n",
       "         'Univ of California Press': 1})"
      ]
     },
     "execution_count": 52,
     "metadata": {},
     "output_type": "execute_result"
    }
   ],
   "source": [
    "stanford_counter & berkeley_counter"
   ]
  },
  {
   "cell_type": "code",
   "execution_count": 54,
   "metadata": {
    "collapsed": false
   },
   "outputs": [
    {
     "name": "stdout",
     "output_type": "stream",
     "text": [
      "Oxford University Press, USA\n",
      "Univ of California Press\n",
      "None\n",
      "Arcadia Publishing\n",
      "Husband Press\n",
      "Wadsworth Publishing Company\n",
      "Transaction Publishers\n",
      "Cambridge Scholars Publishing\n",
      "Oxford University Press\n",
      "Apress\n",
      "University of Toronto Press\n",
      "Penn State Press\n",
      "Springer Science & Business Media\n",
      "Cornell University Press\n",
      "Oxford University Press on Demand\n",
      "Cambridge University Press\n",
      "University of Chicago Press\n",
      "University Press of Kentucky\n",
      "Verso Books\n",
      "Frog Books\n",
      "Fordham Univ Press\n",
      "U of Minnesota Press\n",
      "Macmillan\n",
      "Wiley-Blackwell\n",
      "Boydell Press\n",
      "Heritage Books\n",
      "Lexington Books\n"
     ]
    }
   ],
   "source": [
    "from collections import OrderedDict\n",
    "berkeley_publishers=OrderedDict(berkeley_counter)\n",
    "for pub in berkeley_publishers:\n",
    "    print(pub)"
   ]
  },
  {
   "cell_type": "code",
   "execution_count": 57,
   "metadata": {
    "collapsed": false
   },
   "outputs": [],
   "source": [
    "from collections import deque\n",
    "deque_list=deque(berkeley_publishers)"
   ]
  },
  {
   "cell_type": "code",
   "execution_count": 58,
   "metadata": {
    "collapsed": false
   },
   "outputs": [
    {
     "data": {
      "text/plain": [
       "'Lexington Books'"
      ]
     },
     "execution_count": 58,
     "metadata": {},
     "output_type": "execute_result"
    }
   ],
   "source": [
    "deque_list.pop()"
   ]
  },
  {
   "cell_type": "code",
   "execution_count": 59,
   "metadata": {
    "collapsed": false
   },
   "outputs": [
    {
     "data": {
      "text/plain": [
       "'Oxford University Press, USA'"
      ]
     },
     "execution_count": 59,
     "metadata": {},
     "output_type": "execute_result"
    }
   ],
   "source": [
    "deque_list.popleft()"
   ]
  },
  {
   "cell_type": "code",
   "execution_count": 60,
   "metadata": {
    "collapsed": false
   },
   "outputs": [
    {
     "data": {
      "text/plain": [
       "deque(['Univ of California Press',\n",
       "       'None',\n",
       "       'Arcadia Publishing',\n",
       "       'Husband Press',\n",
       "       'Wadsworth Publishing Company',\n",
       "       'Transaction Publishers',\n",
       "       'Cambridge Scholars Publishing',\n",
       "       'Oxford University Press',\n",
       "       'Apress',\n",
       "       'University of Toronto Press',\n",
       "       'Penn State Press',\n",
       "       'Springer Science & Business Media',\n",
       "       'Cornell University Press',\n",
       "       'Oxford University Press on Demand',\n",
       "       'Cambridge University Press',\n",
       "       'University of Chicago Press',\n",
       "       'University Press of Kentucky',\n",
       "       'Verso Books',\n",
       "       'Frog Books',\n",
       "       'Fordham Univ Press',\n",
       "       'U of Minnesota Press',\n",
       "       'Macmillan',\n",
       "       'Wiley-Blackwell',\n",
       "       'Boydell Press',\n",
       "       'Heritage Books'])"
      ]
     },
     "execution_count": 60,
     "metadata": {},
     "output_type": "execute_result"
    }
   ],
   "source": [
    "deque_list"
   ]
  },
  {
   "cell_type": "code",
   "execution_count": 61,
   "metadata": {
    "collapsed": false
   },
   "outputs": [
    {
     "name": "stdout",
     "output_type": "stream",
     "text": [
      "deque(['Univ of California Press',\n",
      "       'None',\n",
      "       'Arcadia Publishing',\n",
      "       'Husband Press',\n",
      "       'Wadsworth Publishing Company',\n",
      "       'Transaction Publishers',\n",
      "       'Cambridge Scholars Publishing',\n",
      "       'Oxford University Press',\n",
      "       'Apress',\n",
      "       'University of Toronto Press',\n",
      "       'Penn State Press',\n",
      "       'Springer Science & Business Media',\n",
      "       'Cornell University Press',\n",
      "       'Oxford University Press on Demand',\n",
      "       'Cambridge University Press',\n",
      "       'University of Chicago Press',\n",
      "       'University Press of Kentucky',\n",
      "       'Verso Books',\n",
      "       'Frog Books',\n",
      "       'Fordham Univ Press',\n",
      "       'U of Minnesota Press',\n",
      "       'Macmillan',\n",
      "       'Wiley-Blackwell',\n",
      "       'Boydell Press',\n",
      "       'Heritage Books'])\n"
     ]
    }
   ],
   "source": [
    "from pprint import pprint\n",
    "pprint(deque_list)"
   ]
  },
  {
   "cell_type": "code",
   "execution_count": 65,
   "metadata": {
    "collapsed": false
   },
   "outputs": [
    {
     "name": "stdout",
     "output_type": "stream",
     "text": [
      "Collecting collection\n",
      "\u001b[31m  Could not find a version that satisfies the requirement collection (from versions: )\u001b[0m\n",
      "\u001b[31mNo matching distribution found for collection\u001b[0m\n"
     ]
    }
   ],
   "source": [
    "!pip install collection"
   ]
  },
  {
   "cell_type": "code",
   "execution_count": 66,
   "metadata": {
    "collapsed": true
   },
   "outputs": [],
   "source": [
    "class Drone:\n",
    "    def fly(self):\n",
    "        print(\"the drone is flying at \",self.altitude,\" feet.\")\n",
    "        \n",
    "    def ascend(self,change):\n",
    "        self.altitude+=100\n",
    "        \n",
    "    def descend(self,change):\n",
    "        self.altitude-=100"
   ]
  },
  {
   "cell_type": "code",
   "execution_count": 70,
   "metadata": {
    "collapsed": false
   },
   "outputs": [
    {
     "name": "stdout",
     "output_type": "stream",
     "text": [
      "the drone is flying at  0  feet.\n"
     ]
    }
   ],
   "source": [
    "d=Drone()\n",
    "d.altitude = 0\n",
    "d.fly()"
   ]
  },
  {
   "cell_type": "code",
   "execution_count": 82,
   "metadata": {
    "collapsed": false
   },
   "outputs": [],
   "source": [
    "class Drone:\n",
    "    def __init__(self,altitude =0):\n",
    "        \n",
    "        self.altitude = altitude\n",
    "    def fly(self):\n",
    "        print(\"the drone is flying at \",self.altitude,\" feet.\")\n",
    "        \n",
    "    def ascend(self,change):\n",
    "        self.altitude+=100\n",
    "        \n",
    "    def descend(self,change):\n",
    "        self.altitude-=100"
   ]
  },
  {
   "cell_type": "code",
   "execution_count": null,
   "metadata": {
    "collapsed": true
   },
   "outputs": [],
   "source": []
  },
  {
   "cell_type": "code",
   "execution_count": 83,
   "metadata": {
    "collapsed": false
   },
   "outputs": [
    {
     "name": "stdout",
     "output_type": "stream",
     "text": [
      "the drone is flying at  100  feet.\n",
      "the drone is flying at  200  feet.\n",
      "the drone is flying at  0  feet.\n",
      "the drone is flying at  0  feet.\n"
     ]
    }
   ],
   "source": [
    "d=Drone(100)\n",
    "d.fly()\n",
    "d.ascend(100)\n",
    "d.fly()\n",
    "d1=Drone(0)\n",
    "d1.fly()\n",
    "d2=Drone()\n",
    "d2.fly()"
   ]
  },
  {
   "cell_type": "code",
   "execution_count": 95,
   "metadata": {
    "collapsed": true
   },
   "outputs": [],
   "source": [
    "class Drone:\n",
    "    num_drones = 0\n",
    "    def __init__(self,altitude =0):\n",
    "        self.altitude = altitude\n",
    "        self.ascend_count =0\n",
    "        Drone.num_drones+=1\n",
    "        \n",
    "    def fly(self):\n",
    "        print(\"the drone is flying at \",self.altitude,\" feet.\")\n",
    "        \n",
    "    def ascend(self,change):\n",
    "        self.altitude+=100\n",
    "        self.ascend_count+=1\n",
    "        \n",
    "    def descend(self,change):\n",
    "        self.altitude-=100"
   ]
  },
  {
   "cell_type": "code",
   "execution_count": null,
   "metadata": {
    "collapsed": true
   },
   "outputs": [],
   "source": []
  },
  {
   "cell_type": "code",
   "execution_count": null,
   "metadata": {
    "collapsed": true
   },
   "outputs": [],
   "source": []
  },
  {
   "cell_type": "code",
   "execution_count": 96,
   "metadata": {
    "collapsed": false
   },
   "outputs": [],
   "source": [
    "d1=Drone(100)\n",
    "# d1.fly()\n",
    "# print(\"d1 ascend count:\",d1.ascend_count)\n",
    "# d1.fly()\n",
    "# d1.ascend(100)\n",
    "# d1.ascend(100)\n",
    "# d1.ascend(100)\n",
    "# print(\"d1 ascend count:\",d1.ascend_count)\n",
    "# d1.fly()\n",
    "# d2=Drone(200)\n",
    "# d2.fly()\n",
    "# print(\"d2 ascend count:\",d2.ascend_count)"
   ]
  },
  {
   "cell_type": "code",
   "execution_count": 97,
   "metadata": {
    "collapsed": false
   },
   "outputs": [
    {
     "data": {
      "text/plain": [
       "1"
      ]
     },
     "execution_count": 97,
     "metadata": {},
     "output_type": "execute_result"
    }
   ],
   "source": [
    "Drone.num_drones"
   ]
  },
  {
   "cell_type": "code",
   "execution_count": 103,
   "metadata": {
    "collapsed": true
   },
   "outputs": [],
   "source": [
    "d1=Drone(100)\n",
    "d1=Drone(100)\n",
    "d1=Drone(100)\n",
    "d1=Drone(100)\n"
   ]
  },
  {
   "cell_type": "code",
   "execution_count": null,
   "metadata": {
    "collapsed": true
   },
   "outputs": [],
   "source": []
  },
  {
   "cell_type": "code",
   "execution_count": 104,
   "metadata": {
    "collapsed": false
   },
   "outputs": [
    {
     "name": "stdout",
     "output_type": "stream",
     "text": [
      "100\n",
      "300\n"
     ]
    }
   ],
   "source": [
    "Drone.num_drones\n",
    "print(d1.altitude)\n",
    "d1.altitude = 300\n",
    "print(d1.altitude)"
   ]
  },
  {
   "cell_type": "code",
   "execution_count": null,
   "metadata": {
    "collapsed": true
   },
   "outputs": [],
   "source": []
  },
  {
   "cell_type": "code",
   "execution_count": 107,
   "metadata": {
    "collapsed": true
   },
   "outputs": [],
   "source": [
    "class Drone:\n",
    "    num_drones = 0\n",
    "    def __init__(self,altitude =0):\n",
    "        self.altitude = altitude\n",
    "        self.ascend_count =0\n",
    "        Drone.num_drones+=1\n",
    "        \n",
    "    def fly(self):\n",
    "        print(\"the drone is flying at \",self.altitude,\" feet.\")\n",
    "        \n",
    "    def ascend(self,change):\n",
    "        self.altitude+=100\n",
    "        self.ascend_count+=1\n",
    "        \n",
    "    def descend(self,change):\n",
    "        self.altitude-=100\n",
    "        \n",
    "    def get_altitude(self):\n",
    "        return self.altitude\n",
    "    \n",
    "    def set_altitude(self,alt):\n",
    "        if(alt<0):\n",
    "            raise Exception(\"Drone cannot have a negative altitude\")\n",
    "        self.altitude = alt"
   ]
  },
  {
   "cell_type": "code",
   "execution_count": null,
   "metadata": {
    "collapsed": true
   },
   "outputs": [],
   "source": []
  },
  {
   "cell_type": "code",
   "execution_count": 113,
   "metadata": {
    "collapsed": false
   },
   "outputs": [
    {
     "name": "stdout",
     "output_type": "stream",
     "text": [
      "altitide is 100\n",
      "altitide is -1123\n"
     ]
    }
   ],
   "source": [
    "d1=Drone(100)\n",
    "print(\"altitide is\",d1.get_altitude())\n",
    "d1.set_altitude(300)\n",
    "d1.altitude = -1123\n",
    "print(\"altitide is\",d1.get_altitude())"
   ]
  },
  {
   "cell_type": "code",
   "execution_count": 119,
   "metadata": {
    "collapsed": true
   },
   "outputs": [],
   "source": [
    "class Drone:\n",
    "    num_drones = 0\n",
    "    def __init__(self,altitude =0):\n",
    "        self.__altitude = altitude\n",
    "        self.ascend_count =0\n",
    "        Drone.num_drones+=1\n",
    "        \n",
    "    def fly(self):\n",
    "        print(\"the drone is flying at \",self.altitude,\" feet.\")\n",
    "        \n",
    "    def ascend(self,change):\n",
    "        self.altitude+=100\n",
    "        self.ascend_count+=1\n",
    "        \n",
    "    def descend(self,change):\n",
    "        self.altitude-=100\n",
    "        \n",
    "    def get_altitude(self):\n",
    "        return self.__altitude\n",
    "    \n",
    "    def set_altitude(self,alt):\n",
    "        if(alt<0):\n",
    "            raise Exception(\"Drone cannot have a negative altitude\")\n",
    "        self.__altitude = alt"
   ]
  },
  {
   "cell_type": "code",
   "execution_count": null,
   "metadata": {
    "collapsed": true
   },
   "outputs": [],
   "source": []
  },
  {
   "cell_type": "code",
   "execution_count": 123,
   "metadata": {
    "collapsed": false
   },
   "outputs": [
    {
     "name": "stdout",
     "output_type": "stream",
     "text": [
      "altitide is 100\n"
     ]
    },
    {
     "ename": "Exception",
     "evalue": "Drone cannot have a negative altitude",
     "output_type": "error",
     "traceback": [
      "\u001b[0;31m---------------------------------------------------------------------------\u001b[0m",
      "\u001b[0;31mException\u001b[0m                                 Traceback (most recent call last)",
      "\u001b[0;32m<ipython-input-123-97fca552f892>\u001b[0m in \u001b[0;36m<module>\u001b[0;34m()\u001b[0m\n\u001b[1;32m      2\u001b[0m \u001b[0mprint\u001b[0m\u001b[0;34m(\u001b[0m\u001b[0;34m\"altitide is\"\u001b[0m\u001b[0;34m,\u001b[0m\u001b[0md1\u001b[0m\u001b[0;34m.\u001b[0m\u001b[0mget_altitude\u001b[0m\u001b[0;34m(\u001b[0m\u001b[0;34m)\u001b[0m\u001b[0;34m)\u001b[0m\u001b[0;34m\u001b[0m\u001b[0m\n\u001b[1;32m      3\u001b[0m \u001b[0md1\u001b[0m\u001b[0;34m.\u001b[0m\u001b[0mset_altitude\u001b[0m\u001b[0;34m(\u001b[0m\u001b[0;36m300\u001b[0m\u001b[0;34m)\u001b[0m\u001b[0;34m\u001b[0m\u001b[0m\n\u001b[0;32m----> 4\u001b[0;31m \u001b[0md1\u001b[0m\u001b[0;34m.\u001b[0m\u001b[0mset_altitude\u001b[0m\u001b[0;34m(\u001b[0m\u001b[0;34m-\u001b[0m\u001b[0;36m123\u001b[0m\u001b[0;34m)\u001b[0m\u001b[0;34m\u001b[0m\u001b[0m\n\u001b[0m\u001b[1;32m      5\u001b[0m \u001b[0mprint\u001b[0m\u001b[0;34m(\u001b[0m\u001b[0;34m\"altitide is\"\u001b[0m\u001b[0;34m,\u001b[0m\u001b[0md1\u001b[0m\u001b[0;34m.\u001b[0m\u001b[0mget_altitude\u001b[0m\u001b[0;34m(\u001b[0m\u001b[0;34m)\u001b[0m\u001b[0;34m)\u001b[0m\u001b[0;34m\u001b[0m\u001b[0m\n\u001b[1;32m      6\u001b[0m \u001b[0mprint\u001b[0m\u001b[0;34m(\u001b[0m\u001b[0md1\u001b[0m\u001b[0;34m.\u001b[0m\u001b[0maltitude\u001b[0m\u001b[0;34m)\u001b[0m\u001b[0;34m\u001b[0m\u001b[0m\n",
      "\u001b[0;32m<ipython-input-119-7c8911254948>\u001b[0m in \u001b[0;36mset_altitude\u001b[0;34m(self, alt)\u001b[0m\n\u001b[1;32m     21\u001b[0m     \u001b[0;32mdef\u001b[0m \u001b[0mset_altitude\u001b[0m\u001b[0;34m(\u001b[0m\u001b[0mself\u001b[0m\u001b[0;34m,\u001b[0m\u001b[0malt\u001b[0m\u001b[0;34m)\u001b[0m\u001b[0;34m:\u001b[0m\u001b[0;34m\u001b[0m\u001b[0m\n\u001b[1;32m     22\u001b[0m         \u001b[0;32mif\u001b[0m\u001b[0;34m(\u001b[0m\u001b[0malt\u001b[0m\u001b[0;34m<\u001b[0m\u001b[0;36m0\u001b[0m\u001b[0;34m)\u001b[0m\u001b[0;34m:\u001b[0m\u001b[0;34m\u001b[0m\u001b[0m\n\u001b[0;32m---> 23\u001b[0;31m             \u001b[0;32mraise\u001b[0m \u001b[0mException\u001b[0m\u001b[0;34m(\u001b[0m\u001b[0;34m\"Drone cannot have a negative altitude\"\u001b[0m\u001b[0;34m)\u001b[0m\u001b[0;34m\u001b[0m\u001b[0m\n\u001b[0m\u001b[1;32m     24\u001b[0m         \u001b[0mself\u001b[0m\u001b[0;34m.\u001b[0m\u001b[0m__altitude\u001b[0m \u001b[0;34m=\u001b[0m \u001b[0malt\u001b[0m\u001b[0;34m\u001b[0m\u001b[0m\n",
      "\u001b[0;31mException\u001b[0m: Drone cannot have a negative altitude"
     ]
    }
   ],
   "source": [
    "d1=Drone(100)\n",
    "print(\"altitide is\",d1.get_altitude())\n",
    "d1.set_altitude(300)\n",
    "d1.set_altitude(-123)\n",
    "print(\"altitide is\",d1.get_altitude())\n",
    "print(d1.altitude)"
   ]
  },
  {
   "cell_type": "code",
   "execution_count": null,
   "metadata": {
    "collapsed": true
   },
   "outputs": [],
   "source": []
  },
  {
   "cell_type": "markdown",
   "metadata": {},
   "source": [
    "### Overriding hidden attributes"
   ]
  },
  {
   "cell_type": "code",
   "execution_count": 126,
   "metadata": {
    "collapsed": false
   },
   "outputs": [
    {
     "name": "stdout",
     "output_type": "stream",
     "text": [
      "altitide is 100\n",
      "altitide is -123\n"
     ]
    }
   ],
   "source": [
    "class Drone:\n",
    "    num_drones = 0\n",
    "    def __init__(self,altitude =0):\n",
    "        self.__altitude = altitude\n",
    "        self.ascend_count =0\n",
    "        Drone.num_drones+=1\n",
    "        \n",
    "    def fly(self):\n",
    "        print(\"the drone is flying at \",self.altitude,\" feet.\")\n",
    "        \n",
    "    def ascend(self,change):\n",
    "        self.altitude+=100\n",
    "        self.ascend_count+=1\n",
    "        \n",
    "    def descend(self,change):\n",
    "        self.altitude-=100\n",
    "        \n",
    "    def get_altitude(self):\n",
    "        return self.__altitude\n",
    "    \n",
    "    def set_altitude(self,alt):\n",
    "        if(alt<0):\n",
    "            raise Exception(\"Drone cannot have a negative altitude\")\n",
    "        self.__altitude = alt\n",
    "\n",
    "        \n",
    "d1=Drone(100)\n",
    "print(\"altitide is\",d1.get_altitude())\n",
    "d1.set_altitude(300)\n",
    "d1._Drone__altitude=-123\n",
    "print(\"altitide is\",d1.get_altitude())\n"
   ]
  },
  {
   "cell_type": "markdown",
   "metadata": {},
   "source": [
    "### Properties"
   ]
  },
  {
   "cell_type": "code",
   "execution_count": 131,
   "metadata": {
    "collapsed": false
   },
   "outputs": [
    {
     "name": "stdout",
     "output_type": "stream",
     "text": [
      "altitide is 100\n",
      "altitide is 300\n"
     ]
    }
   ],
   "source": [
    "class Drone:\n",
    "    num_drones = 0\n",
    "    def __init__(self,altitude =0):\n",
    "        self.altitude = altitude\n",
    "        self.ascend_count =0\n",
    "        \n",
    "    def fly(self):\n",
    "        print(\"the drone is flying at \",self.altitude,\" feet.\")\n",
    "        \n",
    "    def ascend(self,change):\n",
    "        self.altitude+=100\n",
    "        self.ascend_count+=1\n",
    "       \n",
    "d1=Drone(100)\n",
    "print(\"altitide is\",d1.altitude)\n",
    "d1.altitude = 300\n",
    "print(\"altitide is\",d1.altitude)\n"
   ]
  },
  {
   "cell_type": "code",
   "execution_count": 134,
   "metadata": {
    "collapsed": false
   },
   "outputs": [
    {
     "name": "stdout",
     "output_type": "stream",
     "text": [
      " in getter\n",
      "altitide is 100\n",
      " in getter\n",
      "altitide is 300\n"
     ]
    }
   ],
   "source": [
    "class Drone:\n",
    "    num_drones = 0\n",
    "    def __init__(self,altitude =0):\n",
    "        self.__altitude = altitude\n",
    "        self.ascend_count =0\n",
    "        \n",
    "    def fly(self):\n",
    "        print(\"the drone is flying at \",self.__altitude,\" feet.\")\n",
    "        \n",
    "    def ascend(self,change):\n",
    "        self.__altitude+=100\n",
    "        self.ascend_count+=1\n",
    "    \n",
    "    def get_altitude(self):\n",
    "        print(\" in getter\")\n",
    "        return self.__altitude\n",
    "    \n",
    "    def set_altitude(self,alt):\n",
    "        if alt<0:\n",
    "            raise Exception(\"Drone cannot have a -ve alt\")\n",
    "        self.__altitude = alt\n",
    "    \n",
    "    altitude = property(get_altitude,set_altitude)\n",
    "       \n",
    "d1=Drone(100)\n",
    "print(\"altitide is\",d1.altitude)\n",
    "d1.altitude = 300\n",
    "print(\"altitide is\",d1.altitude)\n"
   ]
  },
  {
   "cell_type": "code",
   "execution_count": 133,
   "metadata": {
    "collapsed": false
   },
   "outputs": [
    {
     "ename": "Exception",
     "evalue": "Drone cannot have a -ve alt",
     "output_type": "error",
     "traceback": [
      "\u001b[0;31m---------------------------------------------------------------------------\u001b[0m",
      "\u001b[0;31mException\u001b[0m                                 Traceback (most recent call last)",
      "\u001b[0;32m<ipython-input-133-590d8230894c>\u001b[0m in \u001b[0;36m<module>\u001b[0;34m()\u001b[0m\n\u001b[0;32m----> 1\u001b[0;31m \u001b[0md1\u001b[0m\u001b[0;34m.\u001b[0m\u001b[0maltitude\u001b[0m  \u001b[0;34m=\u001b[0m \u001b[0;34m-\u001b[0m\u001b[0;36m123\u001b[0m\u001b[0;34m\u001b[0m\u001b[0m\n\u001b[0m",
      "\u001b[0;32m<ipython-input-132-b0ae21de47e5>\u001b[0m in \u001b[0;36mset_altitude\u001b[0;34m(self, alt)\u001b[0m\n\u001b[1;32m     17\u001b[0m     \u001b[0;32mdef\u001b[0m \u001b[0mset_altitude\u001b[0m\u001b[0;34m(\u001b[0m\u001b[0mself\u001b[0m\u001b[0;34m,\u001b[0m\u001b[0malt\u001b[0m\u001b[0;34m)\u001b[0m\u001b[0;34m:\u001b[0m\u001b[0;34m\u001b[0m\u001b[0m\n\u001b[1;32m     18\u001b[0m         \u001b[0;32mif\u001b[0m \u001b[0malt\u001b[0m\u001b[0;34m<\u001b[0m\u001b[0;36m0\u001b[0m\u001b[0;34m:\u001b[0m\u001b[0;34m\u001b[0m\u001b[0m\n\u001b[0;32m---> 19\u001b[0;31m             \u001b[0;32mraise\u001b[0m \u001b[0mException\u001b[0m\u001b[0;34m(\u001b[0m\u001b[0;34m\"Drone cannot have a -ve alt\"\u001b[0m\u001b[0;34m)\u001b[0m\u001b[0;34m\u001b[0m\u001b[0m\n\u001b[0m\u001b[1;32m     20\u001b[0m         \u001b[0mself\u001b[0m\u001b[0;34m.\u001b[0m\u001b[0m__altitude\u001b[0m \u001b[0;34m=\u001b[0m \u001b[0malt\u001b[0m\u001b[0;34m\u001b[0m\u001b[0m\n\u001b[1;32m     21\u001b[0m \u001b[0;34m\u001b[0m\u001b[0m\n",
      "\u001b[0;31mException\u001b[0m: Drone cannot have a -ve alt"
     ]
    }
   ],
   "source": [
    "d1.altitude  = -123"
   ]
  },
  {
   "cell_type": "markdown",
   "metadata": {},
   "source": [
    "# Class Methods and Static Methods\n"
   ]
  },
  {
   "cell_type": "code",
   "execution_count": 150,
   "metadata": {
    "collapsed": false
   },
   "outputs": [
    {
     "name": "stdout",
     "output_type": "stream",
     "text": [
      "321.23\n",
      "3212.2999999999997\n"
     ]
    }
   ],
   "source": [
    "#special instructions\n",
    "#used bby @\n",
    "\n",
    "class Drone:\n",
    "    __num = 0\n",
    "    def __init__(self,altitude =0):\n",
    "        self.altitude = altitude\n",
    "        self.ascend_count =0\n",
    "        Drone.__num+=1\n",
    "        \n",
    "    def fly(self):\n",
    "        print(\"the drone is flying at \",self.altitude,\" feet.\")\n",
    "        \n",
    "    def ascend(self,change):\n",
    "        self.altitude+=change\n",
    "        self.ascend_count+=1\n",
    "    \n",
    "    @classmethod\n",
    "    def get_num(cls):\n",
    "        print(cls.__num)\n",
    "    \n",
    "    @staticmethod\n",
    "    def feet_from_meteres(meters):\n",
    "        return meters * 3.2123\n",
    "    \n",
    "\n",
    "d1= Drone(100)\n",
    "d1.altitude = Drone.feet_from_meteres(100)\n",
    "print(d1.altitude)\n",
    "print(d1.feet_from_meteres(1000))"
   ]
  },
  {
   "cell_type": "code",
   "execution_count": null,
   "metadata": {
    "collapsed": true
   },
   "outputs": [],
   "source": []
  },
  {
   "cell_type": "code",
   "execution_count": 139,
   "metadata": {
    "collapsed": false
   },
   "outputs": [
    {
     "name": "stdout",
     "output_type": "stream",
     "text": [
      "<class '__main__.Drone'>\n"
     ]
    }
   ],
   "source": [
    "d1.print_class()"
   ]
  },
  {
   "cell_type": "code",
   "execution_count": 141,
   "metadata": {
    "collapsed": false
   },
   "outputs": [
    {
     "name": "stdout",
     "output_type": "stream",
     "text": [
      "<class '__main__.Drone'>\n"
     ]
    }
   ],
   "source": [
    "Drone.print_class()"
   ]
  },
  {
   "cell_type": "code",
   "execution_count": 151,
   "metadata": {
    "collapsed": true
   },
   "outputs": [],
   "source": [
    "class square:\n",
    "    def area(self,side):\n",
    "        return side ** 2\n",
    "\n",
    "class rectangle:\n",
    "    def area(self,length,width):\n",
    "        return length*width\n"
   ]
  },
  {
   "cell_type": "markdown",
   "metadata": {},
   "source": [
    "# Class Inheritance\n"
   ]
  },
  {
   "cell_type": "code",
   "execution_count": 157,
   "metadata": {
    "collapsed": true
   },
   "outputs": [],
   "source": [
    "##Simulations\n",
    "\n",
    "class Process:\n",
    "    def __init__(seld,start_value=0):\n",
    "        self.value=start_value\n",
    "    \n",
    "    def time_step(self):\n",
    "        pass"
   ]
  },
  {
   "cell_type": "code",
   "execution_count": 164,
   "metadata": {
    "collapsed": true
   },
   "outputs": [],
   "source": [
    "##Simulations\n",
    "\n",
    "class Process:\n",
    "    def __init__(self,start_value=0):\n",
    "        self.value=start_value\n",
    "    \n",
    "    def time_step(self):\n",
    "        pass"
   ]
  },
  {
   "cell_type": "code",
   "execution_count": null,
   "metadata": {
    "collapsed": true
   },
   "outputs": [],
   "source": []
  },
  {
   "cell_type": "code",
   "execution_count": 165,
   "metadata": {
    "collapsed": false
   },
   "outputs": [],
   "source": [
    "p1=Process()\n",
    "p1.time_step()"
   ]
  },
  {
   "cell_type": "code",
   "execution_count": 201,
   "metadata": {
    "collapsed": true
   },
   "outputs": [],
   "source": [
    "class BoundedLinearProcess(Process):\n",
    "    \"\"\" Bounded linear process \"\"\"\n",
    "    def __init__(self,start_value=0,velocity=0):\n",
    "        super().__init__(start_value)\n",
    "        self.velocity = velocity\n",
    "        \n",
    "    def time_step(self):\n",
    "        self.value += self.velocity\n",
    "        if self.value < 0:\n",
    "            self.value = -self.value\n",
    "            self.velocity = -self.velocity\n",
    "        elif self.value > 1:\n",
    "            self.value = 1 - (self.value - 1)\n",
    "            self.velocity = -self.velocity\n",
    "        super().time_step\n",
    "    def __str__(self):\n",
    "        return \" \" * int(self.value*20) + \"*\"\n",
    "    \n"
   ]
  },
  {
   "cell_type": "code",
   "execution_count": null,
   "metadata": {
    "collapsed": true
   },
   "outputs": [],
   "source": []
  },
  {
   "cell_type": "code",
   "execution_count": 204,
   "metadata": {
    "collapsed": false
   },
   "outputs": [
    {
     "name": "stdout",
     "output_type": "stream",
     "text": [
      "*\n"
     ]
    }
   ],
   "source": [
    "b1=BoundedLinearProcess(0,.3)\n",
    "print(b1)\n"
   ]
  },
  {
   "cell_type": "code",
   "execution_count": 176,
   "metadata": {
    "collapsed": false
   },
   "outputs": [
    {
     "name": "stdout",
     "output_type": "stream",
     "text": [
      "Current process value: 0.3\n",
      "Current process value: 0.6\n",
      "Current process value: 0.8999999999999999\n",
      "Current process value: 0.8\n"
     ]
    }
   ],
   "source": [
    "for i in range(4):\n",
    "    b1.time_step()\n",
    "    print(\"Current process value:\",b1.value)"
   ]
  },
  {
   "cell_type": "code",
   "execution_count": 185,
   "metadata": {
    "collapsed": true
   },
   "outputs": [],
   "source": [
    "##Simulations\n",
    "\n",
    "class Process:\n",
    "    def __init__(self,start_value=0):\n",
    "        self.value=start_value\n",
    "    \n",
    "    def time_step(self):\n",
    "        pass\n",
    "    \n",
    "    def __str__(self):\n",
    "        return \"Process with current value:\"+str(self.value)"
   ]
  },
  {
   "cell_type": "code",
   "execution_count": 186,
   "metadata": {
    "collapsed": false
   },
   "outputs": [
    {
     "name": "stdout",
     "output_type": "stream",
     "text": [
      "Process with current value:0\n"
     ]
    }
   ],
   "source": [
    "p=Process()\n",
    "print(p)"
   ]
  },
  {
   "cell_type": "code",
   "execution_count": 187,
   "metadata": {
    "collapsed": false
   },
   "outputs": [
    {
     "name": "stdout",
     "output_type": "stream",
     "text": [
      "Current process value: 0.5\n",
      "Current process value: 0.2\n",
      "Current process value: 0.09999999999999998\n",
      "Current process value: 0.39999999999999997\n"
     ]
    }
   ],
   "source": [
    "for i in range(4):\n",
    "    b1.time_step()\n",
    "    print(\"Current process value:\",b1.value)"
   ]
  },
  {
   "cell_type": "code",
   "execution_count": 197,
   "metadata": {
    "collapsed": true
   },
   "outputs": [],
   "source": [
    "##Simulations\n",
    "\n",
    "class Process:\n",
    "    def __init__(self,start_value=0):\n",
    "        self.value=start_value\n",
    "    \n",
    "    def time_step(self):\n",
    "        pass\n",
    "    \n",
    "    def __str__(self):\n",
    "        return \" \" * int(self.value*20) + \"*\"\n",
    "    \n",
    "    def __repr__(self):\n",
    "        return self.__str__(self)"
   ]
  },
  {
   "cell_type": "code",
   "execution_count": 205,
   "metadata": {
    "collapsed": false
   },
   "outputs": [
    {
     "name": "stdout",
     "output_type": "stream",
     "text": [
      "      *\n",
      "            *\n",
      "                  *\n",
      "                *\n",
      "          *\n",
      "    *\n",
      " *\n",
      "       *\n",
      "              *\n",
      "                    *\n",
      "              *\n",
      "       *\n",
      " *\n",
      "    *\n",
      "          *\n",
      "                *\n",
      "                  *\n",
      "           *\n",
      "     *\n",
      "*\n"
     ]
    }
   ],
   "source": [
    "for i in range(20):\n",
    "    b1.time_step()\n",
    "    print(b1)"
   ]
  },
  {
   "cell_type": "code",
   "execution_count": null,
   "metadata": {
    "collapsed": true
   },
   "outputs": [],
   "source": []
  },
  {
   "cell_type": "code",
   "execution_count": null,
   "metadata": {
    "collapsed": true
   },
   "outputs": [],
   "source": []
  },
  {
   "cell_type": "code",
   "execution_count": null,
   "metadata": {
    "collapsed": true
   },
   "outputs": [],
   "source": []
  },
  {
   "cell_type": "code",
   "execution_count": 207,
   "metadata": {
    "collapsed": false
   },
   "outputs": [
    {
     "name": "stdout",
     "output_type": "stream",
     "text": [
      "*\n"
     ]
    }
   ],
   "source": [
    "pp=Process()\n",
    "print(pp)"
   ]
  },
  {
   "cell_type": "markdown",
   "metadata": {},
   "source": [
    "Autoregressive Process of order 1\n",
    "AR(1)\n",
    "x_t = ax{t-1} + w{t}"
   ]
  },
  {
   "cell_type": "code",
   "execution_count": null,
   "metadata": {
    "collapsed": true
   },
   "outputs": [],
   "source": []
  },
  {
   "cell_type": "code",
   "execution_count": 218,
   "metadata": {
    "collapsed": true
   },
   "outputs": [],
   "source": [
    "import numpy as np\n",
    "class ARProcess(Process):\n",
    "    def __init__(self,alpha = 0.5, sigma = 1, start_value = 0):\n",
    "        super().__init__(start_value)\n",
    "        self.alpha = alpha\n",
    "        self.sigma = sigma\n",
    "    \n",
    "    def time_step(self):\n",
    "        self.value = self.alpha * self.value + np.random.normal(scale = self.sigma)\n",
    "        super().time_step()\n",
    "        \n",
    "    def __str__(self):\n",
    "        if self.value < 0:\n",
    "            s = \" \" * int(5 * (self.value * 3)) + \"*\"+\" \"* int(-self.value * 5)+\"|\"\n",
    "        else:\n",
    "            s = \" \" * 15 + \"|\" + \" \" * int(5 * self.value)+\"*\"\n",
    "        return s"
   ]
  },
  {
   "cell_type": "code",
   "execution_count": null,
   "metadata": {
    "collapsed": true
   },
   "outputs": [],
   "source": []
  },
  {
   "cell_type": "code",
   "execution_count": 219,
   "metadata": {
    "collapsed": false
   },
   "outputs": [
    {
     "name": "stdout",
     "output_type": "stream",
     "text": [
      "               |*\n",
      "*  |\n",
      "*      |\n",
      "               |*\n",
      "               |       *\n",
      "               |         *\n",
      "               |          *\n",
      "               |         *\n",
      "*        |\n",
      "*|\n",
      "*  |\n",
      "* |\n",
      "*      |\n",
      "*        |\n",
      "*             |\n",
      "*           |\n",
      "*        |\n",
      "*       |\n",
      "*         |\n",
      "*       |\n"
     ]
    }
   ],
   "source": [
    "p2=ARProcess()\n",
    "for i in range(20):\n",
    "    print(p2)\n",
    "    p2.time_step()"
   ]
  },
  {
   "cell_type": "code",
   "execution_count": null,
   "metadata": {
    "collapsed": true
   },
   "outputs": [],
   "source": []
  },
  {
   "cell_type": "code",
   "execution_count": 220,
   "metadata": {
    "collapsed": false
   },
   "outputs": [
    {
     "data": {
      "text/plain": [
       "[1, 2, 3, 4, 3, 4, 5, 6]"
      ]
     },
     "execution_count": 220,
     "metadata": {},
     "output_type": "execute_result"
    }
   ],
   "source": [
    "[1,2,3,4]+[3,4,5,6]"
   ]
  },
  {
   "cell_type": "code",
   "execution_count": 250,
   "metadata": {
    "collapsed": false
   },
   "outputs": [],
   "source": [
    "class Vector:\n",
    "    def __init__(self,numbers):\n",
    "        self.__numbers = numbers\n",
    "    \n",
    "    @property\n",
    "    def numbers(self):\n",
    "        return self.__numbers\n",
    "    \n",
    "    def dot(self,other):\n",
    "        if len(self.__numbers)!= len(other.numbers):\n",
    "            return \"Cannot multiple because the 2 vectors are of different length\"\n",
    "        \n",
    "        answer=[]\n",
    "        for i in range(len(self.__numbers)):\n",
    "            print(i)\n",
    "            print(self.__numbers[i])\n",
    "            print(other.numbers[i])  \n",
    "            answer.append(self.__numbers[i] * other.numbers[i])\n",
    "            print(answer)\n",
    "            print()\n",
    "        \n",
    "        return answer\n",
    "    \n",
    "    def __mul__(self,other):\n",
    "        print(\"here\")\n",
    "        return self.dot(other)\n",
    "            \n",
    "        "
   ]
  },
  {
   "cell_type": "code",
   "execution_count": 252,
   "metadata": {
    "collapsed": false
   },
   "outputs": [
    {
     "name": "stdout",
     "output_type": "stream",
     "text": [
      "here\n",
      "0\n",
      "1\n",
      "1\n",
      "[1]\n",
      "\n",
      "1\n",
      "2\n",
      "2\n",
      "[1, 4]\n",
      "\n",
      "2\n",
      "3\n",
      "3\n",
      "[1, 4, 9]\n",
      "\n",
      "[1, 4, 9]\n"
     ]
    }
   ],
   "source": [
    "a=Vector([1,2,3])\n",
    "b=Vector([1,2,3])\n",
    "print(a*b)"
   ]
  },
  {
   "cell_type": "code",
   "execution_count": 254,
   "metadata": {
    "collapsed": false
   },
   "outputs": [
    {
     "name": "stdout",
     "output_type": "stream",
     "text": [
      "2017-06-04 07:51:43.509089\n"
     ]
    }
   ],
   "source": [
    "import datetime\n",
    "d=datetime.datetime.now()\n",
    "print(d)"
   ]
  },
  {
   "cell_type": "code",
   "execution_count": 256,
   "metadata": {
    "collapsed": false
   },
   "outputs": [],
   "source": [
    "students=[]\n",
    "students.append({\"A\",\"B\",\"C\",\"1.2\",1.2})"
   ]
  },
  {
   "cell_type": "code",
   "execution_count": 257,
   "metadata": {
    "collapsed": false
   },
   "outputs": [
    {
     "data": {
      "text/plain": [
       "[{1.2, 'C', '1.2', 'B', 'A'}]"
      ]
     },
     "execution_count": 257,
     "metadata": {},
     "output_type": "execute_result"
    }
   ],
   "source": [
    "students"
   ]
  },
  {
   "cell_type": "code",
   "execution_count": 262,
   "metadata": {
    "collapsed": true
   },
   "outputs": [],
   "source": [
    "students.append([\"A\",\"B\",\"C\",\"1.2\",1.2])\n"
   ]
  },
  {
   "cell_type": "code",
   "execution_count": 263,
   "metadata": {
    "collapsed": false
   },
   "outputs": [
    {
     "data": {
      "text/plain": [
       "[{1.2, 'C', '1.2', 'B', 'A'},\n",
       " {1.2, 'C', '1.2', 'B', 'A'},\n",
       " {1.2, 'C', '1.2', 'B', 'A'},\n",
       " {1.2, 'C', '1.2', 'B', 'A'},\n",
       " {1.2, 'C', '1.2', 'B', 'A'},\n",
       " {1.2, 'C', '1.2', 'B', 'A'},\n",
       " {1.2, 'C', '1.2', 'B', 'A'},\n",
       " {1.2, 'C', '1.2', 'B', 'A'},\n",
       " {1.2, 'C', '1.2', 'B', 'A'},\n",
       " {1.2, 'C', '1.2', 'B', 'A'},\n",
       " {1.2, 'C', '1.2', 'B', 'A'},\n",
       " {1.2, 'C', '1.2', 'B', 'A'},\n",
       " {1.2, 'C', '1.2', 'B', 'A'},\n",
       " ['A', 'B', 'C', '1.2', 1.2]]"
      ]
     },
     "execution_count": 263,
     "metadata": {},
     "output_type": "execute_result"
    }
   ],
   "source": [
    "students"
   ]
  },
  {
   "cell_type": "code",
   "execution_count": null,
   "metadata": {
    "collapsed": true
   },
   "outputs": [],
   "source": []
  },
  {
   "cell_type": "code",
   "execution_count": 261,
   "metadata": {
    "collapsed": false
   },
   "outputs": [
    {
     "name": "stdout",
     "output_type": "stream",
     "text": [
      "{1.2, 'C', '1.2', 'B', 'A'}\n",
      "{1.2, 'C', '1.2', 'B', 'A'}\n",
      "{1.2, 'C', '1.2', 'B', 'A'}\n",
      "{1.2, 'C', '1.2', 'B', 'A'}\n",
      "{1.2, 'C', '1.2', 'B', 'A'}\n",
      "{1.2, 'C', '1.2', 'B', 'A'}\n",
      "{1.2, 'C', '1.2', 'B', 'A'}\n",
      "{1.2, 'C', '1.2', 'B', 'A'}\n",
      "{1.2, 'C', '1.2', 'B', 'A'}\n",
      "{1.2, 'C', '1.2', 'B', 'A'}\n",
      "{1.2, 'C', '1.2', 'B', 'A'}\n",
      "{1.2, 'C', '1.2', 'B', 'A'}\n",
      "{1.2, 'C', '1.2', 'B', 'A'}\n"
     ]
    }
   ],
   "source": [
    "for student in students:\n",
    "    print(student)"
   ]
  },
  {
   "cell_type": "code",
   "execution_count": 264,
   "metadata": {
    "collapsed": true
   },
   "outputs": [],
   "source": [
    "students=[]\n",
    "students.append([\"A\",\"B\",\"C\",\"1.2\",1.2])\n",
    "students.append([\"A\",\"B\",\"C\",\"1.2\",1.2])\n",
    "students.append([\"A\",\"B\",\"C\",\"1.2\",1.2])\n",
    "students.append([\"A\",\"B\",\"C\",\"1.2\",1.2])\n",
    "students.append([\"A\",\"B\",\"C\",\"1.2\",1.2])"
   ]
  },
  {
   "cell_type": "code",
   "execution_count": 265,
   "metadata": {
    "collapsed": false
   },
   "outputs": [
    {
     "data": {
      "text/plain": [
       "[['A', 'B', 'C', '1.2', 1.2],\n",
       " ['A', 'B', 'C', '1.2', 1.2],\n",
       " ['A', 'B', 'C', '1.2', 1.2],\n",
       " ['A', 'B', 'C', '1.2', 1.2],\n",
       " ['A', 'B', 'C', '1.2', 1.2]]"
      ]
     },
     "execution_count": 265,
     "metadata": {},
     "output_type": "execute_result"
    }
   ],
   "source": [
    "students"
   ]
  },
  {
   "cell_type": "code",
   "execution_count": 267,
   "metadata": {
    "collapsed": false
   },
   "outputs": [
    {
     "name": "stdout",
     "output_type": "stream",
     "text": [
      "['A', 'B', 'C', '1.2', 1.2]\n",
      "['A', 'B', 'C', '1.2', 1.2]\n",
      "['A', 'B', 'C', '1.2', 1.2]\n",
      "['A', 'B', 'C', '1.2', 1.2]\n",
      "['A', 'B', 'C', '1.2', 1.2]\n"
     ]
    }
   ],
   "source": [
    "for student in students:\n",
    "    print(student)"
   ]
  },
  {
   "cell_type": "code",
   "execution_count": 278,
   "metadata": {
    "collapsed": true
   },
   "outputs": [],
   "source": [
    "students=[]\n",
    "students.append({\"Name\": \"Anirudh\",\"Age\": 27,\"Company\": \"Symantec\"})\n",
    "students.append({\"Name\": \"Anirudh\",\"Age\": 27,\"Company\": \"Symantec\"})\n",
    "students.append({\"Name\": \"Kohli\",\"Age\": 27,\"Company\": \"Symantec\"})\n",
    "students.append({\"Name\": \"Anirudh Mittal\",\"Age\": 27,\"Company\": \"Symantec\"})\n",
    "students.append({\"Name\": \"Aaskash Gupta\",\"Age\": 27,\"Company\": \"Symantec\"})\n"
   ]
  },
  {
   "cell_type": "code",
   "execution_count": null,
   "metadata": {
    "collapsed": true
   },
   "outputs": [],
   "source": []
  },
  {
   "cell_type": "code",
   "execution_count": 279,
   "metadata": {
    "collapsed": false
   },
   "outputs": [
    {
     "name": "stdout",
     "output_type": "stream",
     "text": [
      "{'Name': 'Anirudh', 'Age': 27, 'Company': 'Symantec'}\n",
      "{'Name': 'Anirudh', 'Age': 27, 'Company': 'Symantec'}\n",
      "{'Name': 'Kohli', 'Age': 27, 'Company': 'Symantec'}\n",
      "{'Name': 'Anirudh Mittal', 'Age': 27, 'Company': 'Symantec'}\n",
      "{'Name': 'Aaskash Gupta', 'Age': 27, 'Company': 'Symantec'}\n"
     ]
    }
   ],
   "source": [
    "for student in students:\n",
    "    print(student)"
   ]
  },
  {
   "cell_type": "code",
   "execution_count": null,
   "metadata": {
    "collapsed": true
   },
   "outputs": [],
   "source": []
  },
  {
   "cell_type": "code",
   "execution_count": 291,
   "metadata": {
    "collapsed": false
   },
   "outputs": [
    {
     "name": "stdout",
     "output_type": "stream",
     "text": [
      "             Anirudh   Symantec 27.000000\n",
      "             Anirudh   Symantec 27.000000\n",
      "               Kohli   Symantec 27.000000\n",
      "      Anirudh Mittal   Symantec 27.000000\n",
      "       Aaskash Gupta   Symantec 27.000000\n"
     ]
    }
   ],
   "source": [
    "for student in students:\n",
    "    student_data = \"{name:>20s} {company:>10s} {age:>3f}\".format(name= student[\"Name\"],age = student[\"Age\"],company =student[\"Company\"])\n",
    "    print(student_data)"
   ]
  },
  {
   "cell_type": "code",
   "execution_count": 310,
   "metadata": {
    "collapsed": false
   },
   "outputs": [],
   "source": [
    "\n",
    "def crossproduct(vectorA,vectorB):\n",
    "    sum=0\n",
    "    for i in range(len(vectorA)):\n",
    "        sum+=vectorA[i] * vectorB[i]\n",
    "    return sum\n",
    "            "
   ]
  },
  {
   "cell_type": "code",
   "execution_count": 294,
   "metadata": {
    "collapsed": false
   },
   "outputs": [
    {
     "data": {
      "text/plain": [
       "9"
      ]
     },
     "execution_count": 294,
     "metadata": {},
     "output_type": "execute_result"
    }
   ],
   "source": [
    "crossproduct([1,1,1],[1,1,1])"
   ]
  },
  {
   "cell_type": "code",
   "execution_count": 311,
   "metadata": {
    "collapsed": true
   },
   "outputs": [],
   "source": [
    "def sumsquare(vectorA):\n",
    "    sum=0\n",
    "    for a in vectorA:\n",
    "        sum+=a**2\n",
    "    return sum ** 0.5\n",
    "        "
   ]
  },
  {
   "cell_type": "code",
   "execution_count": null,
   "metadata": {
    "collapsed": true
   },
   "outputs": [],
   "source": []
  },
  {
   "cell_type": "code",
   "execution_count": null,
   "metadata": {
    "collapsed": true
   },
   "outputs": [],
   "source": []
  },
  {
   "cell_type": "code",
   "execution_count": 308,
   "metadata": {
    "collapsed": false
   },
   "outputs": [
    {
     "name": "stdout",
     "output_type": "stream",
     "text": [
      "16\n",
      "a is 1  and sum is: 0\n",
      "a is 2  and sum is: 1\n",
      "a is 2  and sum is: 5\n",
      "Dinal sum 9\n",
      "3.0\n",
      "a is 4  and sum is: 0\n",
      "a is 4  and sum is: 16\n",
      "a is 2  and sum is: 32\n",
      "Dinal sum 36\n",
      "6.0\n"
     ]
    }
   ],
   "source": [
    "x=[1,2,2]\n",
    "y=[4,4,2]\n",
    "print(crossproduct(x,y))\n",
    "print(sumsquare(x))\n",
    "print(sumsquare(y))"
   ]
  },
  {
   "cell_type": "code",
   "execution_count": 305,
   "metadata": {
    "collapsed": false
   },
   "outputs": [
    {
     "data": {
      "text/plain": [
       "0.8888888888888888"
      ]
     },
     "execution_count": 305,
     "metadata": {},
     "output_type": "execute_result"
    }
   ],
   "source": [
    "16/18"
   ]
  },
  {
   "cell_type": "code",
   "execution_count": null,
   "metadata": {
    "collapsed": true
   },
   "outputs": [],
   "source": []
  },
  {
   "cell_type": "code",
   "execution_count": 300,
   "metadata": {
    "collapsed": false
   },
   "outputs": [
    {
     "data": {
      "text/plain": [
       "2.7777777777777777"
      ]
     },
     "execution_count": 300,
     "metadata": {},
     "output_type": "execute_result"
    }
   ],
   "source": [
    "50/18"
   ]
  },
  {
   "cell_type": "code",
   "execution_count": 312,
   "metadata": {
    "collapsed": false
   },
   "outputs": [
    {
     "name": "stdout",
     "output_type": "stream",
     "text": [
      "0.8888888888888888\n"
     ]
    }
   ],
   "source": [
    "print(crossproduct(x,y)/ (sumsquare(x) *sumsquare(y)))"
   ]
  },
  {
   "cell_type": "code",
   "execution_count": null,
   "metadata": {
    "collapsed": true
   },
   "outputs": [],
   "source": []
  },
  {
   "cell_type": "code",
   "execution_count": null,
   "metadata": {
    "collapsed": true
   },
   "outputs": [],
   "source": []
  },
  {
   "cell_type": "code",
   "execution_count": null,
   "metadata": {
    "collapsed": true
   },
   "outputs": [],
   "source": []
  },
  {
   "cell_type": "code",
   "execution_count": null,
   "metadata": {
    "collapsed": true
   },
   "outputs": [],
   "source": []
  },
  {
   "cell_type": "code",
   "execution_count": null,
   "metadata": {
    "collapsed": true
   },
   "outputs": [],
   "source": []
  },
  {
   "cell_type": "code",
   "execution_count": null,
   "metadata": {
    "collapsed": true
   },
   "outputs": [],
   "source": []
  },
  {
   "cell_type": "code",
   "execution_count": null,
   "metadata": {
    "collapsed": true
   },
   "outputs": [],
   "source": []
  },
  {
   "cell_type": "code",
   "execution_count": null,
   "metadata": {
    "collapsed": true
   },
   "outputs": [],
   "source": []
  }
 ],
 "metadata": {
  "kernelspec": {
   "display_name": "Python 3",
   "language": "python",
   "name": "python3"
  },
  "language_info": {
   "codemirror_mode": {
    "name": "ipython",
    "version": 3
   },
   "file_extension": ".py",
   "mimetype": "text/x-python",
   "name": "python",
   "nbconvert_exporter": "python",
   "pygments_lexer": "ipython3",
   "version": "3.6.0"
  }
 },
 "nbformat": 4,
 "nbformat_minor": 2
}
