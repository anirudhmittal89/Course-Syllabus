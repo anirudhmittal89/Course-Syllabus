{
 "cells": [
  {
   "cell_type": "markdown",
   "metadata": {},
   "source": [
    "1. In this Problem, you will simulate Galton’s box – a machine in which steel balls are dropped through rows of pins.  As a ball hits each pin, it can move to the right or to the left by half a space with equal probability as it falls to the next row.  A sample path is shown in the diagram below.   At the bottom of the box, pinballs are collected in lanes, numbered 0 to N-1.\n",
    "\n",
    "![title](Galton_Box.png)\n",
    "\n",
    "a. First, write a Pinball class to represent each ball.  Use a position attribute to store the horizontal position of the ball.  Include a bounce() method that adds or subtracts ½ from the position with equal probability.  Your class should implement the following behavior:\n",
    "```\n",
    ">>> b = Pinball(\"x\")\n",
    ">>> b.label\n",
    "'x'\n",
    ">>> print(b.position)\n",
    "None\n",
    ">>> b.position = 4\n",
    ">>> b.bounce()\n",
    ">>> b.position\n",
    "3.5\n",
    ">>> b.bounce()\n",
    ">>> b.position\n",
    "4.0\n",
    ">>> b.num_pinballs\n",
    "1\n",
    "```"
   ]
  },
  {
   "cell_type": "markdown",
   "metadata": {},
   "source": [
    "b. Next, write a Board class to represent Galton’s box.  Pass the number of lanes, N, into the constructor.  Include a method insert_pinball that takes a Pinball as its argument, sets the position to (N-1)/2, makes the ball bounce N-1 times, and remembers which lane it falls into.  Continuing the shell example above, your classes should implement the following behavior:\n",
    "```\n",
    ">>> board = Board(30)\n",
    ">>> board.insert_pinball(b)\n",
    ">>> board.display()\n",
    "             x             \n",
    " \n",
    ">>> for i in range(50):\n",
    "\tc = Pinball(\"o\")\n",
    "\tboard.insert_pinball(c)\n",
    "\n",
    "\t\n",
    ">>> board.display()\n",
    "                o o           \n",
    "            o  oo o           \n",
    "            o ooo o           \n",
    "           oooooooo           \n",
    "           ooooooooo          \n",
    "           ooooooooo o        \n",
    "       o ooooxoooooo o\n",
    "\n",
    ">>> b.num_pinballs\n",
    "51\n",
    "```\n",
    "Note: The expected height of each row follows what is known as the binomial distribution.  If N is large enough, this distribution approximates the normal distribution."
   ]
  },
  {
   "cell_type": "code",
   "execution_count": null,
   "metadata": {
    "collapsed": true
   },
   "outputs": [],
   "source": []
  }
 ],
 "metadata": {
  "kernelspec": {
   "display_name": "Python 3",
   "language": "python",
   "name": "python3"
  },
  "language_info": {
   "codemirror_mode": {
    "name": "ipython",
    "version": 3
   },
   "file_extension": ".py",
   "mimetype": "text/x-python",
   "name": "python",
   "nbconvert_exporter": "python",
   "pygments_lexer": "ipython3",
   "version": "3.4.3"
  }
 },
 "nbformat": 4,
 "nbformat_minor": 0
}
